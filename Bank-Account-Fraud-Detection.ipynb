{
 "cells": [
  {
   "cell_type": "markdown",
   "metadata": {},
   "source": [
    "# Bank Account Fraud Detection\n",
    "\n",
    "## Luke DiPerna\n",
    "\n",
    "### January 2023\n",
    "\n",
    "\n",
    "\n",
    "Photo by <a href=\"https://unsplash.com/@rupixen?utm_source=unsplash&utm_medium=referral&utm_content=creditCopyText\">rupixen.com</a> on <a href=\"https://unsplash.com/s/photos/credit-card?utm_source=unsplash&utm_medium=referral&utm_content=creditCopyText\">Unsplash</a>\n",
    "  "
   ]
  },
  {
   "cell_type": "markdown",
   "metadata": {},
   "source": [
    "## Project Goal\n",
    "***\n",
    "The goal of this project is to accurately and responsibly predict fraudulent bank account applications. The stakeholder is the Office of the Comptroller of the Currency (OCC), an independent bureau of the US Department of the Treasury. The OCC is responsible for regulating and supervising all national banks.\n",
    "\n",
    "With the rise in reliance on machine learning models to detect things like fraudulent bank account applications, there is growing concern about the bias that is often \"built-in\" to these models. (See examples here, here, here, etc.). The OCC, whose mission is in part to be a supervisor who \"promotes a vibrant and diverse banking system that benefits consumers, communities, businesses, and the U.S. economy\" (link), wishes to examine machine learning models and practices that will balance the needs of the banks while ensuring that consumers are not subject to discrimination and unfair treatment. In doing so, they can begin to establish industry standards to ensure that banks implement non-discriminatory practices.\n",
    "\n",
    "To do this, certain protected classes/information will be be anonymized. Additionally, accuracy is not the only goal of the final model. The results must also not show bias towards any particular group among the protected classes. For a more detailed description of how the data and methods will account for this, please see ________________."
   ]
  },
  {
   "cell_type": "markdown",
   "metadata": {},
   "source": [
    "## Table of Contents"
   ]
  },
  {
   "cell_type": "markdown",
   "metadata": {},
   "source": [
    "## Data"
   ]
  },
  {
   "cell_type": "markdown",
   "metadata": {},
   "source": [
    "## Methods/Metrics"
   ]
  },
  {
   "cell_type": "markdown",
   "metadata": {},
   "source": [
    "## Exploratory Data Analysis (EDA)\n",
    "\n",
    "Since the dataset is mostly cleaned already, there is not much pre-processing or preparation needed. Instead, I will focus on gaining a solid understanding of what is in the dataset, and how to most effectively utilize it."
   ]
  },
  {
   "cell_type": "code",
   "execution_count": 1,
   "metadata": {},
   "outputs": [],
   "source": [
    "import pandas as pd\n",
    "import numpy as np\n",
    "import matplotlib.pyplot as plt\n",
    "import seaborn as sns\n",
    "import pickle\n",
    "from imblearn.under_sampling import RandomUnderSampler\n",
    "from sklearn.linear_model import LogisticRegression\n",
    "from sklearn.model_selection import train_test_split, GridSearchCV, cross_validate, cross_val_score, cross_val_predict\n",
    "from sklearn.metrics import roc_curve, auc, RocCurveDisplay, classification_report, confusion_matrix, ConfusionMatrixDisplay\n",
    "from sklearn.preprocessing import LabelEncoder, StandardScaler\n",
    "from sklearn.ensemble import RandomForestClassifier\n",
    "from sklearn.pipeline import Pipeline\n",
    "from sklearn.neighbors import KNeighborsClassifier\n",
    "\n",
    "%matplotlib inline\n",
    "seed = 99\n",
    "sns.set_style('darkgrid', {'axes.facecolor': '0.9'})\n",
    "\n",
    "# with open('clf.pickle', 'rb') as f:\n",
    "#     clf = pickle.load(f)"
   ]
  },
  {
   "cell_type": "code",
   "execution_count": 2,
   "metadata": {},
   "outputs": [
    {
     "data": {
      "text/html": [
       "<div>\n",
       "<style scoped>\n",
       "    .dataframe tbody tr th:only-of-type {\n",
       "        vertical-align: middle;\n",
       "    }\n",
       "\n",
       "    .dataframe tbody tr th {\n",
       "        vertical-align: top;\n",
       "    }\n",
       "\n",
       "    .dataframe thead th {\n",
       "        text-align: right;\n",
       "    }\n",
       "</style>\n",
       "<table border=\"1\" class=\"dataframe\">\n",
       "  <thead>\n",
       "    <tr style=\"text-align: right;\">\n",
       "      <th></th>\n",
       "      <th>fraud_bool</th>\n",
       "      <th>income</th>\n",
       "      <th>name_email_similarity</th>\n",
       "      <th>prev_address_months_count</th>\n",
       "      <th>current_address_months_count</th>\n",
       "      <th>customer_age</th>\n",
       "      <th>days_since_request</th>\n",
       "      <th>intended_balcon_amount</th>\n",
       "      <th>payment_type</th>\n",
       "      <th>zip_count_4w</th>\n",
       "      <th>...</th>\n",
       "      <th>has_other_cards</th>\n",
       "      <th>proposed_credit_limit</th>\n",
       "      <th>foreign_request</th>\n",
       "      <th>source</th>\n",
       "      <th>session_length_in_minutes</th>\n",
       "      <th>device_os</th>\n",
       "      <th>keep_alive_session</th>\n",
       "      <th>device_distinct_emails_8w</th>\n",
       "      <th>device_fraud_count</th>\n",
       "      <th>month</th>\n",
       "    </tr>\n",
       "  </thead>\n",
       "  <tbody>\n",
       "    <tr>\n",
       "      <th>0</th>\n",
       "      <td>1</td>\n",
       "      <td>0.9</td>\n",
       "      <td>0.166828</td>\n",
       "      <td>-1</td>\n",
       "      <td>88</td>\n",
       "      <td>50</td>\n",
       "      <td>0.020925</td>\n",
       "      <td>-1.331345</td>\n",
       "      <td>AA</td>\n",
       "      <td>769</td>\n",
       "      <td>...</td>\n",
       "      <td>0</td>\n",
       "      <td>500.0</td>\n",
       "      <td>0</td>\n",
       "      <td>INTERNET</td>\n",
       "      <td>3.888115</td>\n",
       "      <td>windows</td>\n",
       "      <td>0</td>\n",
       "      <td>1</td>\n",
       "      <td>0</td>\n",
       "      <td>7</td>\n",
       "    </tr>\n",
       "    <tr>\n",
       "      <th>1</th>\n",
       "      <td>1</td>\n",
       "      <td>0.9</td>\n",
       "      <td>0.296286</td>\n",
       "      <td>-1</td>\n",
       "      <td>144</td>\n",
       "      <td>50</td>\n",
       "      <td>0.005418</td>\n",
       "      <td>-0.816224</td>\n",
       "      <td>AB</td>\n",
       "      <td>366</td>\n",
       "      <td>...</td>\n",
       "      <td>0</td>\n",
       "      <td>1500.0</td>\n",
       "      <td>0</td>\n",
       "      <td>INTERNET</td>\n",
       "      <td>31.798819</td>\n",
       "      <td>windows</td>\n",
       "      <td>0</td>\n",
       "      <td>1</td>\n",
       "      <td>0</td>\n",
       "      <td>7</td>\n",
       "    </tr>\n",
       "    <tr>\n",
       "      <th>2</th>\n",
       "      <td>1</td>\n",
       "      <td>0.9</td>\n",
       "      <td>0.044985</td>\n",
       "      <td>-1</td>\n",
       "      <td>132</td>\n",
       "      <td>40</td>\n",
       "      <td>3.108549</td>\n",
       "      <td>-0.755728</td>\n",
       "      <td>AC</td>\n",
       "      <td>870</td>\n",
       "      <td>...</td>\n",
       "      <td>0</td>\n",
       "      <td>200.0</td>\n",
       "      <td>0</td>\n",
       "      <td>INTERNET</td>\n",
       "      <td>4.728705</td>\n",
       "      <td>other</td>\n",
       "      <td>0</td>\n",
       "      <td>1</td>\n",
       "      <td>0</td>\n",
       "      <td>7</td>\n",
       "    </tr>\n",
       "    <tr>\n",
       "      <th>3</th>\n",
       "      <td>1</td>\n",
       "      <td>0.9</td>\n",
       "      <td>0.159511</td>\n",
       "      <td>-1</td>\n",
       "      <td>22</td>\n",
       "      <td>50</td>\n",
       "      <td>0.019079</td>\n",
       "      <td>-1.205124</td>\n",
       "      <td>AB</td>\n",
       "      <td>810</td>\n",
       "      <td>...</td>\n",
       "      <td>1</td>\n",
       "      <td>200.0</td>\n",
       "      <td>0</td>\n",
       "      <td>INTERNET</td>\n",
       "      <td>2.047904</td>\n",
       "      <td>linux</td>\n",
       "      <td>0</td>\n",
       "      <td>1</td>\n",
       "      <td>0</td>\n",
       "      <td>7</td>\n",
       "    </tr>\n",
       "    <tr>\n",
       "      <th>4</th>\n",
       "      <td>1</td>\n",
       "      <td>0.9</td>\n",
       "      <td>0.596414</td>\n",
       "      <td>-1</td>\n",
       "      <td>218</td>\n",
       "      <td>50</td>\n",
       "      <td>0.004441</td>\n",
       "      <td>-0.773276</td>\n",
       "      <td>AB</td>\n",
       "      <td>890</td>\n",
       "      <td>...</td>\n",
       "      <td>0</td>\n",
       "      <td>1500.0</td>\n",
       "      <td>0</td>\n",
       "      <td>INTERNET</td>\n",
       "      <td>3.775225</td>\n",
       "      <td>macintosh</td>\n",
       "      <td>1</td>\n",
       "      <td>1</td>\n",
       "      <td>0</td>\n",
       "      <td>7</td>\n",
       "    </tr>\n",
       "  </tbody>\n",
       "</table>\n",
       "<p>5 rows × 32 columns</p>\n",
       "</div>"
      ],
      "text/plain": [
       "   fraud_bool  income  name_email_similarity  prev_address_months_count  \\\n",
       "0           1     0.9               0.166828                         -1   \n",
       "1           1     0.9               0.296286                         -1   \n",
       "2           1     0.9               0.044985                         -1   \n",
       "3           1     0.9               0.159511                         -1   \n",
       "4           1     0.9               0.596414                         -1   \n",
       "\n",
       "   current_address_months_count  customer_age  days_since_request  \\\n",
       "0                            88            50            0.020925   \n",
       "1                           144            50            0.005418   \n",
       "2                           132            40            3.108549   \n",
       "3                            22            50            0.019079   \n",
       "4                           218            50            0.004441   \n",
       "\n",
       "   intended_balcon_amount payment_type  zip_count_4w  ...  has_other_cards  \\\n",
       "0               -1.331345           AA           769  ...                0   \n",
       "1               -0.816224           AB           366  ...                0   \n",
       "2               -0.755728           AC           870  ...                0   \n",
       "3               -1.205124           AB           810  ...                1   \n",
       "4               -0.773276           AB           890  ...                0   \n",
       "\n",
       "   proposed_credit_limit  foreign_request    source  \\\n",
       "0                  500.0                0  INTERNET   \n",
       "1                 1500.0                0  INTERNET   \n",
       "2                  200.0                0  INTERNET   \n",
       "3                  200.0                0  INTERNET   \n",
       "4                 1500.0                0  INTERNET   \n",
       "\n",
       "   session_length_in_minutes  device_os  keep_alive_session  \\\n",
       "0                   3.888115    windows                   0   \n",
       "1                  31.798819    windows                   0   \n",
       "2                   4.728705      other                   0   \n",
       "3                   2.047904      linux                   0   \n",
       "4                   3.775225  macintosh                   1   \n",
       "\n",
       "   device_distinct_emails_8w device_fraud_count  month  \n",
       "0                          1                  0      7  \n",
       "1                          1                  0      7  \n",
       "2                          1                  0      7  \n",
       "3                          1                  0      7  \n",
       "4                          1                  0      7  \n",
       "\n",
       "[5 rows x 32 columns]"
      ]
     },
     "execution_count": 2,
     "metadata": {},
     "output_type": "execute_result"
    }
   ],
   "source": [
    "df = pd.read_csv('bank_account_fraud_dataset.csv')\n",
    "df.head()"
   ]
  },
  {
   "cell_type": "code",
   "execution_count": 3,
   "metadata": {},
   "outputs": [
    {
     "name": "stdout",
     "output_type": "stream",
     "text": [
      "<class 'pandas.core.frame.DataFrame'>\n",
      "RangeIndex: 1000000 entries, 0 to 999999\n",
      "Data columns (total 32 columns):\n",
      " #   Column                            Non-Null Count    Dtype  \n",
      "---  ------                            --------------    -----  \n",
      " 0   fraud_bool                        1000000 non-null  int64  \n",
      " 1   income                            1000000 non-null  float64\n",
      " 2   name_email_similarity             1000000 non-null  float64\n",
      " 3   prev_address_months_count         1000000 non-null  int64  \n",
      " 4   current_address_months_count      1000000 non-null  int64  \n",
      " 5   customer_age                      1000000 non-null  int64  \n",
      " 6   days_since_request                1000000 non-null  float64\n",
      " 7   intended_balcon_amount            1000000 non-null  float64\n",
      " 8   payment_type                      1000000 non-null  object \n",
      " 9   zip_count_4w                      1000000 non-null  int64  \n",
      " 10  velocity_6h                       1000000 non-null  float64\n",
      " 11  velocity_24h                      1000000 non-null  float64\n",
      " 12  velocity_4w                       1000000 non-null  float64\n",
      " 13  bank_branch_count_8w              1000000 non-null  int64  \n",
      " 14  date_of_birth_distinct_emails_4w  1000000 non-null  int64  \n",
      " 15  employment_status                 1000000 non-null  object \n",
      " 16  credit_risk_score                 1000000 non-null  int64  \n",
      " 17  email_is_free                     1000000 non-null  int64  \n",
      " 18  housing_status                    1000000 non-null  object \n",
      " 19  phone_home_valid                  1000000 non-null  int64  \n",
      " 20  phone_mobile_valid                1000000 non-null  int64  \n",
      " 21  bank_months_count                 1000000 non-null  int64  \n",
      " 22  has_other_cards                   1000000 non-null  int64  \n",
      " 23  proposed_credit_limit             1000000 non-null  float64\n",
      " 24  foreign_request                   1000000 non-null  int64  \n",
      " 25  source                            1000000 non-null  object \n",
      " 26  session_length_in_minutes         1000000 non-null  float64\n",
      " 27  device_os                         1000000 non-null  object \n",
      " 28  keep_alive_session                1000000 non-null  int64  \n",
      " 29  device_distinct_emails_8w         1000000 non-null  int64  \n",
      " 30  device_fraud_count                1000000 non-null  int64  \n",
      " 31  month                             1000000 non-null  int64  \n",
      "dtypes: float64(9), int64(18), object(5)\n",
      "memory usage: 244.1+ MB\n"
     ]
    }
   ],
   "source": [
    "df.info()"
   ]
  },
  {
   "cell_type": "markdown",
   "metadata": {},
   "source": [
    "As expected, the dataset has no missing values. There are several `object` columns, however, and these need to be changed into numeric dtypes before I can train the models. I will examine the column values before transforming them so I know what kind of information is contained before it becomes abstracted."
   ]
  },
  {
   "cell_type": "code",
   "execution_count": 4,
   "metadata": {},
   "outputs": [
    {
     "name": "stdout",
     "output_type": "stream",
     "text": [
      "AB    370554\n",
      "AA    258249\n",
      "AC    252071\n",
      "AD    118837\n",
      "AE       289\n",
      "Name: payment_type, dtype: int64\n",
      "CA    730252\n",
      "CB    138288\n",
      "CF     44034\n",
      "CC     37758\n",
      "CD     26522\n",
      "CE     22693\n",
      "CG       453\n",
      "Name: employment_status, dtype: int64\n",
      "BC    372143\n",
      "BB    260965\n",
      "BA    169675\n",
      "BE    169135\n",
      "BD     26161\n",
      "BF      1669\n",
      "BG       252\n",
      "Name: housing_status, dtype: int64\n",
      "INTERNET    992952\n",
      "TELEAPP       7048\n",
      "Name: source, dtype: int64\n",
      "other        342728\n",
      "linux        332712\n",
      "windows      263506\n",
      "macintosh     53826\n",
      "x11            7228\n",
      "Name: device_os, dtype: int64\n"
     ]
    }
   ],
   "source": [
    "for column in df.select_dtypes('object').columns:\n",
    "    print(df[column].value_counts())"
   ]
  },
  {
   "cell_type": "markdown",
   "metadata": {},
   "source": [
    "`payment_type`, `employment_status`, and `housing_status` have already been anonymized since they contain protected information, as discussed HERE.  Now that I know what kind of information each feature contains, I will use an encoder to change each column into interger values."
   ]
  },
  {
   "cell_type": "code",
   "execution_count": 5,
   "metadata": {},
   "outputs": [
    {
     "name": "stdout",
     "output_type": "stream",
     "text": [
      "<class 'pandas.core.frame.DataFrame'>\n",
      "RangeIndex: 1000000 entries, 0 to 999999\n",
      "Data columns (total 32 columns):\n",
      " #   Column                            Non-Null Count    Dtype  \n",
      "---  ------                            --------------    -----  \n",
      " 0   fraud_bool                        1000000 non-null  int64  \n",
      " 1   income                            1000000 non-null  float64\n",
      " 2   name_email_similarity             1000000 non-null  float64\n",
      " 3   prev_address_months_count         1000000 non-null  int64  \n",
      " 4   current_address_months_count      1000000 non-null  int64  \n",
      " 5   customer_age                      1000000 non-null  int64  \n",
      " 6   days_since_request                1000000 non-null  float64\n",
      " 7   intended_balcon_amount            1000000 non-null  float64\n",
      " 8   payment_type                      1000000 non-null  int32  \n",
      " 9   zip_count_4w                      1000000 non-null  int64  \n",
      " 10  velocity_6h                       1000000 non-null  float64\n",
      " 11  velocity_24h                      1000000 non-null  float64\n",
      " 12  velocity_4w                       1000000 non-null  float64\n",
      " 13  bank_branch_count_8w              1000000 non-null  int64  \n",
      " 14  date_of_birth_distinct_emails_4w  1000000 non-null  int64  \n",
      " 15  employment_status                 1000000 non-null  int32  \n",
      " 16  credit_risk_score                 1000000 non-null  int64  \n",
      " 17  email_is_free                     1000000 non-null  int64  \n",
      " 18  housing_status                    1000000 non-null  int32  \n",
      " 19  phone_home_valid                  1000000 non-null  int64  \n",
      " 20  phone_mobile_valid                1000000 non-null  int64  \n",
      " 21  bank_months_count                 1000000 non-null  int64  \n",
      " 22  has_other_cards                   1000000 non-null  int64  \n",
      " 23  proposed_credit_limit             1000000 non-null  float64\n",
      " 24  foreign_request                   1000000 non-null  int64  \n",
      " 25  source                            1000000 non-null  int32  \n",
      " 26  session_length_in_minutes         1000000 non-null  float64\n",
      " 27  device_os                         1000000 non-null  int32  \n",
      " 28  keep_alive_session                1000000 non-null  int64  \n",
      " 29  device_distinct_emails_8w         1000000 non-null  int64  \n",
      " 30  device_fraud_count                1000000 non-null  int64  \n",
      " 31  month                             1000000 non-null  int64  \n",
      "dtypes: float64(9), int32(5), int64(18)\n",
      "memory usage: 225.1 MB\n"
     ]
    }
   ],
   "source": [
    "for column in df.select_dtypes('object').columns:\n",
    "    label_encoder = LabelEncoder()\n",
    "    df[column] = label_encoder.fit_transform(df[column])\n",
    "df.info()"
   ]
  },
  {
   "cell_type": "markdown",
   "metadata": {},
   "source": [
    "As seen above, all of the columns are now numeric, and can be used to train the models. I will now examine one of the transformed columns to demonstrate how the values have been changed, and examine the distribution in the target column: `fraud_boolean`, which is the feature the models will attempt to predict."
   ]
  },
  {
   "cell_type": "code",
   "execution_count": 6,
   "metadata": {},
   "outputs": [
    {
     "data": {
      "text/plain": [
       "1    370554\n",
       "0    258249\n",
       "2    252071\n",
       "3    118837\n",
       "4       289\n",
       "Name: payment_type, dtype: int64"
      ]
     },
     "execution_count": 6,
     "metadata": {},
     "output_type": "execute_result"
    }
   ],
   "source": [
    "df['payment_type'].value_counts()"
   ]
  },
  {
   "cell_type": "code",
   "execution_count": 7,
   "metadata": {},
   "outputs": [
    {
     "data": {
      "text/plain": [
       "0    988971\n",
       "1     11029\n",
       "Name: fraud_bool, dtype: int64"
      ]
     },
     "execution_count": 7,
     "metadata": {},
     "output_type": "execute_result"
    }
   ],
   "source": [
    "df['fraud_bool'].value_counts()"
   ]
  },
  {
   "cell_type": "markdown",
   "metadata": {},
   "source": [
    "The data is highly imbalanced, so I will employ undersampling to create a more balanced training dataset. But first, I want to look at the distribution of all features in the set."
   ]
  },
  {
   "cell_type": "code",
   "execution_count": 8,
   "metadata": {
    "scrolled": false
   },
   "outputs": [
    {
     "data": {
      "image/png": "[encoded data removed]",
      "text/plain": [
       "<Figure size 1440x1440 with 36 Axes>"
      ]
     },
     "metadata": {},
     "output_type": "display_data"
    }
   ],
   "source": [
    "df.hist(figsize=(20,20));"
   ]
  },
  {
   "cell_type": "markdown",
   "metadata": {},
   "source": [
    "Some of the feature values are not immediately comprehensible, but a detailed breakdown of each of the features can be found HERE. I want to check the correlation between the target variable and the other features. Because of the imbalanced data, the correlation scores should all be pretty low, but there may be a few features that stand out. I will also drop `device_fraud_count` since it is all zeroes."
   ]
  },
  {
   "cell_type": "code",
   "execution_count": 10,
   "metadata": {},
   "outputs": [
    {
     "data": {
      "text/plain": [
       "fraud_bool                          1.000000\n",
       "credit_risk_score                   0.070624\n",
       "proposed_credit_limit               0.068907\n",
       "customer_age                        0.062959\n",
       "device_os                           0.057834\n",
       "income                              0.045079\n",
       "device_distinct_emails_8w           0.035704\n",
       "current_address_months_count        0.033701\n",
       "payment_type                        0.028304\n",
       "email_is_free                       0.027758\n",
       "foreign_request                     0.016885\n",
       "month                               0.013250\n",
       "session_length_in_minutes           0.008999\n",
       "zip_count_4w                        0.005212\n",
       "source                              0.003922\n",
       "days_since_request                  0.000567\n",
       "bank_months_count                  -0.003222\n",
       "velocity_24h                       -0.011183\n",
       "velocity_4w                        -0.011536\n",
       "bank_branch_count_8w               -0.011577\n",
       "phone_mobile_valid                 -0.013180\n",
       "velocity_6h                        -0.016892\n",
       "employment_status                  -0.021676\n",
       "intended_balcon_amount             -0.024524\n",
       "prev_address_months_count          -0.026031\n",
       "phone_home_valid                   -0.035128\n",
       "has_other_cards                    -0.035156\n",
       "name_email_similarity              -0.036720\n",
       "date_of_birth_distinct_emails_4w   -0.043224\n",
       "keep_alive_session                 -0.050296\n",
       "housing_status                     -0.078000\n",
       "Name: fraud_bool, dtype: float64"
      ]
     },
     "execution_count": 10,
     "metadata": {},
     "output_type": "execute_result"
    }
   ],
   "source": [
    "df.drop('device_fraud_count', axis=1, inplace=True)\n",
    "df.corr()['fraud_bool'].sort_values(ascending=False)"
   ]
  },
  {
   "cell_type": "markdown",
   "metadata": {},
   "source": [
    "As expected, most of the features are minimally correlated (`corr` < 0.05), but there are a few features on the positive and negative end that indicate a slightly stronger relationship. `credit_risk_score` and `housing_status` both have an absolute correlation of over 0.07, indicating that they may be more useful in determining fraud. This is an incredibly simplistic metric, but gives me a few things to consider as I move in to deeper analysis.\n",
    "\n",
    "Next, I will prepare the data for modeling by splitting the data into training and test splits, and performing undersampling on the training set. Undersampling will achieve 2 goals:\n",
    "1. It allows the models to place more importance on identifying the fraudulent applications.\n",
    "2. It reduces the overall number of datapoints. Due to technical limitations and the size of the original dataset, I am unable to build models in a reasonable fashion using the entire dataset."
   ]
  },
  {
   "cell_type": "code",
   "execution_count": 11,
   "metadata": {},
   "outputs": [],
   "source": [
    "X = df.drop('fraud_bool', axis=1)\n",
    "y = df['fraud_bool']\n",
    "# stratify to ensure each split has an equal proportion of fraudulent applications\n",
    "X_train, X_test, y_train, y_test = train_test_split(X, y, random_state=seed, stratify=y)"
   ]
  },
  {
   "cell_type": "code",
   "execution_count": 12,
   "metadata": {},
   "outputs": [
    {
     "data": {
      "text/plain": [
       "0    741728\n",
       "1      8272\n",
       "Name: fraud_bool, dtype: int64"
      ]
     },
     "execution_count": 12,
     "metadata": {},
     "output_type": "execute_result"
    }
   ],
   "source": [
    "y_train.value_counts()"
   ]
  },
  {
   "cell_type": "code",
   "execution_count": 13,
   "metadata": {},
   "outputs": [
    {
     "data": {
      "text/plain": [
       "0    247243\n",
       "1      2757\n",
       "Name: fraud_bool, dtype: int64"
      ]
     },
     "execution_count": 13,
     "metadata": {},
     "output_type": "execute_result"
    }
   ],
   "source": [
    "y_test.value_counts()"
   ]
  },
  {
   "cell_type": "code",
   "execution_count": 14,
   "metadata": {},
   "outputs": [
    {
     "data": {
      "text/plain": [
       "0    82720\n",
       "1     8272\n",
       "Name: fraud_bool, dtype: int64"
      ]
     },
     "execution_count": 14,
     "metadata": {},
     "output_type": "execute_result"
    }
   ],
   "source": [
    "under_sampler = RandomUnderSampler(sampling_strategy=.1, random_state=seed)\n",
    "X_train, y_train = under_sampler.fit_resample(X_train, y_train)\n",
    "\n",
    "y_train.value_counts()"
   ]
  },
  {
   "cell_type": "markdown",
   "metadata": {},
   "source": [
    "## Modeling\n",
    "***\n",
    "Now that the data is prepared, I will iteratively create a series of models as I attempt to refine and improve upon each successive model. As mentioned above, I will be using a combination of accuracy and _____________ as metrics to measure the effectiveness of each model.\n",
    "\n",
    "Since this is a classification task, I will begin with a relatively simple logistic regression model as my baseline. I will use this baseline model to compare against future models.\n",
    "\n",
    "After creating my baseline model, I will create K-Nearest Neighbors (KNN) models as well as Random Forest (RF) models. I go into more detail about the relative merits of each down below, but both are traditionally reliable methods for this type of classification problem. "
   ]
  },
  {
   "cell_type": "code",
   "execution_count": null,
   "metadata": {},
   "outputs": [],
   "source": [
    "def plot_roc(model_name, fpr, tpr, roc_auc):\n",
    "    plt.figure(figsize=(10, 8))\n",
    "    lw = 2\n",
    "    plt.plot(fpr, tpr, color='darkorange', lw=lw, label=f'ROC AUC = {round(roc_auc, 2)}')\n",
    "    plt.plot([0, 1], [0, 1], color='navy', lw=lw, linestyle='--')\n",
    "    plt.xlim([0.0, 1.0])\n",
    "    plt.ylim([0.0, 1.05])\n",
    "    plt.yticks([i/20.0 for i in range(21)])\n",
    "    plt.xticks([i/20.0 for i in range(21)])\n",
    "    plt.xlabel('False Positive Rate')\n",
    "    plt.ylabel('True Positive Rate')\n",
    "    plt.title(f'{model_name} ROC Curve (CV=5)')\n",
    "    plt.legend(loc='lower right')\n",
    "    plt.show()"
   ]
  },
  {
   "cell_type": "code",
   "execution_count": null,
   "metadata": {},
   "outputs": [],
   "source": [
    "def score_train_model(model, X, y, cv):\n",
    "    "
   ]
  },
  {
   "cell_type": "markdown",
   "metadata": {},
   "source": [
    "### Baseline Model: Logistic Regression\n",
    "\n",
    "Logistic regression is good choice for a baseline model because of its relative speed, incomplexity, and interpretability. It uses a logistic function to model the target variable, which in this case is whether or not the bank account application is fraudulent. Logistic regression is ideal for modeling this type of binary classification, and calculates the probability that an event will happen or not (i.e. fraudulent or not)."
   ]
  },
  {
   "cell_type": "code",
   "execution_count": null,
   "metadata": {},
   "outputs": [],
   "source": [
    "# lr = LogisticRegression(fit_intercept=False, C=1e15, solver='liblinear')\n",
    "# lr.fit(X_train, y_train)\n",
    "\n",
    "# train_fpr, train_tpr, thresholds = roc_curve(y_train, lr.decision_function(X_train))\n",
    "# print(train_fpr, train_tpr)\n",
    "# roc_auc = auc(train_fpr, train_tpr)"
   ]
  },
  {
   "cell_type": "code",
   "execution_count": null,
   "metadata": {},
   "outputs": [],
   "source": [
    "# high C value to prevent regularization\n",
    "lr = LogisticRegression(fit_intercept=False, C=1e15, solver='liblinear')\n",
    "# decision function results averaged across all folds\n",
    "cv_deci_func = cross_validate(lr, X_train, y_train, scoring='' cv=5, method='decision_function')\n",
    "\n",
    "train_fpr, train_tpr, thresholds = roc_curve(y_train, cv_deci_func)\n",
    "roc_auc = auc(train_fpr, train_tpr)"
   ]
  },
  {
   "cell_type": "code",
   "execution_count": null,
   "metadata": {},
   "outputs": [],
   "source": [
    "# high C value to prevent regularization\n",
    "lr = LogisticRegression(fit_intercept=False, C=1e15, solver='liblinear')\n",
    "# decision function results averaged across all folds\n",
    "cv_deci_func = cross_val_predict(lr, X_train, y_train, cv=5, method='decision_function')\n",
    "\n",
    "train_fpr, train_tpr, thresholds = roc_curve(y_train, cv_deci_func)\n",
    "roc_auc = auc(train_fpr, train_tpr)"
   ]
  },
  {
   "cell_type": "code",
   "execution_count": null,
   "metadata": {},
   "outputs": [],
   "source": [
    "plt.figure(figsize=(10, 8))\n",
    "lw = 2\n",
    "plt.plot(train_fpr, train_tpr, color='darkorange', lw=lw, label=f'ROC curve = {round(roc_auc, 2)}')\n",
    "plt.plot([0, 1], [0, 1], color='navy', lw=lw, linestyle='--')\n",
    "plt.xlim([0.0, 1.0])\n",
    "plt.ylim([0.0, 1.05])\n",
    "plt.yticks([i/20.0 for i in range(21)])\n",
    "plt.xticks([i/20.0 for i in range(21)])\n",
    "plt.xlabel('False Positive Rate')\n",
    "plt.ylabel('True Positive Rate')\n",
    "plt.title('LogReg ROC Curve for Training Set (CV=5)')\n",
    "plt.legend(loc='lower right')\n",
    "plt.show()"
   ]
  },
  {
   "cell_type": "code",
   "execution_count": null,
   "metadata": {},
   "outputs": [],
   "source": [
    "cv_preds = cross_val_predict(lr, X_train, y_train, cv=5, method='predict')\n",
    "print(classification_report(y_train, cv_preds))"
   ]
  },
  {
   "cell_type": "code",
   "execution_count": null,
   "metadata": {},
   "outputs": [],
   "source": [
    "cm = confusion_matrix(y_train, cv_preds)\n",
    "display = ConfusionMatrixDisplay(confusion_matrix=cm)\n",
    "display.plot(cmap='cividis')\n",
    "plt.grid(False);"
   ]
  },
  {
   "cell_type": "code",
   "execution_count": null,
   "metadata": {},
   "outputs": [],
   "source": [
    "with open('logreg_cv_deci_func.pickle', 'wb') as f:\n",
    "    pickle.dump(cv_deci_func, f)\n",
    "    \n",
    "with open('logreg_cv_preds.pickle', 'wb') as f:\n",
    "    pickle.dump(cv_preds, f)  "
   ]
  },
  {
   "cell_type": "code",
   "execution_count": null,
   "metadata": {},
   "outputs": [],
   "source": []
  },
  {
   "cell_type": "markdown",
   "metadata": {},
   "source": [
    "### K-Nearest Neighbors (KNN)\n",
    "\n",
    "KNN will be the next modeling method I attempt. KNN is capable of modeling multi-classification problems, but in this instance will be used to determine the binary classification of fraudulent or not. For any given datapoint, it uses the proximity of nearby datapoints to determine the proper classification. This is a fairly intensive method, and given the number of datapoints I am using, will require a good bit of time and resources to model. However, the added complexity will hopefully lead to a far more reliable model.\n",
    "\n",
    "I will begin with a KNN model using the default hyperparameters, then perform a grid search to tune the hyperparameters."
   ]
  },
  {
   "cell_type": "code",
   "execution_count": null,
   "metadata": {},
   "outputs": [],
   "source": [
    "knn = KNeighborsClassifier()\n",
    "knn_cv = cross_val_predict(knn, X_train, y_train, cv=5, method='predict_proba')\n",
    "\n",
    "train_fpr, train_tpr, thresholds = roc_curve(y_train, knn_cv[:,1])\n",
    "roc_auc = auc(train_fpr, train_tpr)"
   ]
  },
  {
   "cell_type": "code",
   "execution_count": null,
   "metadata": {},
   "outputs": [],
   "source": [
    "plt.figure(figsize=(10, 8))\n",
    "lw = 2\n",
    "plt.plot(train_fpr, train_tpr, color='darkorange', lw=lw, label=f'ROC curve = {round(roc_auc, 2)}')\n",
    "plt.plot([0, 1], [0, 1], color='navy', lw=lw, linestyle='--')\n",
    "plt.xlim([0.0, 1.0])\n",
    "plt.ylim([0.0, 1.05])\n",
    "plt.yticks([i/20.0 for i in range(21)])\n",
    "plt.xticks([i/20.0 for i in range(21)])\n",
    "plt.xlabel('False Positive Rate')\n",
    "plt.ylabel('True Positive Rate')\n",
    "plt.title('KNN ROC Curve for Training Set (CV=5)')\n",
    "plt.legend(loc='lower right')\n",
    "plt.show()"
   ]
  },
  {
   "cell_type": "code",
   "execution_count": null,
   "metadata": {},
   "outputs": [],
   "source": [
    "knn_cv_preds = cross_val_predict(knn, X_train, y_train, cv=5, method='predict')\n",
    "print(classification_report(y_train, knn_cv_preds))"
   ]
  },
  {
   "cell_type": "code",
   "execution_count": null,
   "metadata": {},
   "outputs": [],
   "source": [
    "cm = confusion_matrix(y_train, knn_cv_preds)\n",
    "display = ConfusionMatrixDisplay(confusion_matrix=cm)\n",
    "display.plot(cmap='cividis')\n",
    "plt.grid(False);"
   ]
  },
  {
   "cell_type": "markdown",
   "metadata": {},
   "source": [
    "#### KNN Scaled\n",
    "\n",
    "Ideally, I would use a pipeline to scale the splits for each k-fold, but the amount of data makes the extra computation and time incredibly restrictive. Instead, I will scale the entire training set, then fit the various models. This means there will be some data leakage in the results on the training data, but the final analysis of the test data should be unaffected."
   ]
  },
  {
   "cell_type": "code",
   "execution_count": null,
   "metadata": {},
   "outputs": [],
   "source": [
    "scaler = StandardScaler()\n",
    "X_train_scaled = scaler.fit_transform(X_train)"
   ]
  },
  {
   "cell_type": "code",
   "execution_count": null,
   "metadata": {},
   "outputs": [],
   "source": [
    "knn = KNeighborsClassifier()\n",
    "knn_cv = cross_val_predict(knn, X_train_scaled, y_train, cv=5, method='predict_proba')\n",
    "\n",
    "train_fpr, train_tpr, thresholds = roc_curve(y_train, knn_cv[:,1])\n",
    "roc_auc = auc(train_fpr, train_tpr)"
   ]
  },
  {
   "cell_type": "code",
   "execution_count": null,
   "metadata": {},
   "outputs": [],
   "source": [
    "plt.figure(figsize=(10, 8))\n",
    "lw = 2\n",
    "plt.plot(train_fpr, train_tpr, color='darkorange', lw=lw, label=f'ROC curve = {round(roc_auc, 2)}')\n",
    "plt.plot([0, 1], [0, 1], color='navy', lw=lw, linestyle='--')\n",
    "plt.xlim([0.0, 1.0])\n",
    "plt.ylim([0.0, 1.05])\n",
    "plt.yticks([i/20.0 for i in range(21)])\n",
    "plt.xticks([i/20.0 for i in range(21)])\n",
    "plt.xlabel('False Positive Rate')\n",
    "plt.ylabel('True Positive Rate')\n",
    "plt.title('KNN_scaled ROC Curve for Training Set (CV=5)')\n",
    "plt.legend(loc='lower right')\n",
    "plt.show()"
   ]
  },
  {
   "cell_type": "code",
   "execution_count": null,
   "metadata": {},
   "outputs": [],
   "source": [
    "knn_cv_preds = cross_val_predict(knn, X_train_scaled, y_train, cv=5, method='predict')\n",
    "print(classification_report(y_train, knn_cv_preds))"
   ]
  },
  {
   "cell_type": "code",
   "execution_count": null,
   "metadata": {},
   "outputs": [],
   "source": [
    "cm = confusion_matrix(y_train, knn_cv_preds)\n",
    "display = ConfusionMatrixDisplay(confusion_matrix=cm)\n",
    "display.plot(cmap='cividis')\n",
    "plt.grid(False);"
   ]
  },
  {
   "cell_type": "markdown",
   "metadata": {},
   "source": [
    "Scaling improved performance significantly. Now for hyperparameter tuning. I initially tested more hyperparameters ('weights': ['uniform', 'distance'], 'p': [1,2,3]). However, `uniform` weight and `p=1` consistently outperformed the others, so to conserve time and computing power, I have limited the grid search to only test `n_neighbors`."
   ]
  },
  {
   "cell_type": "code",
   "execution_count": null,
   "metadata": {
    "scrolled": true
   },
   "outputs": [],
   "source": [
    "knn_param_grid = {'n_neighbors': [5,7,9], 'p': [1, 2]}\n",
    "knn_gs = GridSearchCV(knn, knn_param_grid, cv=5)\n",
    "knn_gs.fit(X_train_scaled, y_train)\n",
    "knn_gs.best_estimator_\n"
   ]
  },
  {
   "cell_type": "code",
   "execution_count": null,
   "metadata": {},
   "outputs": [],
   "source": [
    "pd.DataFrame(knn_gs.cv_results_)"
   ]
  },
  {
   "cell_type": "markdown",
   "metadata": {},
   "source": [
    "I continued to perform grid searches using higher values for `n_neighbors`, but the model performance plataued, with only minimal improvements in model performance. In the interest of conserving computational time and resources, I will use `n_neighbors=9`. "
   ]
  },
  {
   "cell_type": "code",
   "execution_count": null,
   "metadata": {},
   "outputs": [],
   "source": [
    "knn_best = KNeighborsClassifier(n_neighbors=9, p=1)\n",
    "knn_best_cv = cross_val_predict(knn_best, X_train_scaled, y_train, cv=5, method='predict_proba')\n",
    "\n",
    "train_fpr, train_tpr, thresholds = roc_curve(y_train, knn_best_cv[:,1])\n",
    "roc_auc = auc(train_fpr, train_tpr)"
   ]
  },
  {
   "cell_type": "code",
   "execution_count": null,
   "metadata": {},
   "outputs": [],
   "source": [
    "plt.figure(figsize=(10, 8))\n",
    "lw = 2\n",
    "plt.plot(train_fpr, train_tpr, color='darkorange', lw=lw, label=f'ROC curve = {round(roc_auc, 2)}')\n",
    "plt.plot([0, 1], [0, 1], color='navy', lw=lw, linestyle='--')\n",
    "plt.xlim([0.0, 1.0])\n",
    "plt.ylim([0.0, 1.05])\n",
    "plt.yticks([i/20.0 for i in range(21)])\n",
    "plt.xticks([i/20.0 for i in range(21)])\n",
    "plt.xlabel('False Positive Rate')\n",
    "plt.ylabel('True Positive Rate')\n",
    "plt.title('KNN_best ROC Curve for Training Set (CV=5)')\n",
    "plt.legend(loc='lower right')\n",
    "plt.show()"
   ]
  },
  {
   "cell_type": "code",
   "execution_count": null,
   "metadata": {},
   "outputs": [],
   "source": [
    "knn_best_cv_preds = cross_val_predict(knn_best, X_train_scaled, y_train, cv=5, method='predict')\n",
    "print(classification_report(y_train, knn_best_cv_preds))"
   ]
  },
  {
   "cell_type": "code",
   "execution_count": null,
   "metadata": {},
   "outputs": [],
   "source": [
    "cm = confusion_matrix(y_train, knn_best_cv_preds)\n",
    "display = ConfusionMatrixDisplay(confusion_matrix=cm)\n",
    "display.plot(cmap='cividis')\n",
    "plt.grid(False);"
   ]
  },
  {
   "cell_type": "code",
   "execution_count": null,
   "metadata": {},
   "outputs": [],
   "source": [
    "with open('knn_best_cv_proba.pickle', 'wb') as f:\n",
    "    pickle.dump(knn_best_cv, f)\n",
    "    \n",
    "with open('knn_best_cv_preds.pickle', 'wb') as f:\n",
    "    pickle.dump(knn_best_cv_preds, f)  "
   ]
  },
  {
   "cell_type": "code",
   "execution_count": null,
   "metadata": {},
   "outputs": [],
   "source": []
  },
  {
   "cell_type": "code",
   "execution_count": null,
   "metadata": {},
   "outputs": [],
   "source": []
  },
  {
   "cell_type": "markdown",
   "metadata": {},
   "source": [
    "### Random Forests (RF)\n",
    "\n",
    "The final modeling technique I will use is Random Forests. This is an ensemble method that randomly creates many decision trees and aggregates them to determine the classification of each datapoint. The results are more opaque than a logistic regression model, but compared to a KNN model, the RF model is far less resource-intensive and can run efficiently even on large datasets."
   ]
  },
  {
   "cell_type": "code",
   "execution_count": null,
   "metadata": {},
   "outputs": [],
   "source": [
    "rf = RandomForestClassifier()\n",
    "rf_cv = cross_val_predict(rf, X_train, y_train, cv=5, method='predict_proba')\n",
    "\n",
    "train_fpr, train_tpr, thresholds = roc_curve(y_train, rf_cv[:,1])\n",
    "roc_auc = auc(train_fpr, train_tpr)"
   ]
  },
  {
   "cell_type": "code",
   "execution_count": null,
   "metadata": {},
   "outputs": [],
   "source": [
    "plt.figure(figsize=(10, 8))\n",
    "lw = 2\n",
    "plt.plot(train_fpr, train_tpr, color='darkorange', lw=lw, label=f'ROC curve = {round(roc_auc, 2)}')\n",
    "plt.plot([0, 1], [0, 1], color='navy', lw=lw, linestyle='--')\n",
    "plt.xlim([0.0, 1.0])\n",
    "plt.ylim([0.0, 1.05])\n",
    "plt.yticks([i/20.0 for i in range(21)])\n",
    "plt.xticks([i/20.0 for i in range(21)])\n",
    "plt.xlabel('False Positive Rate')\n",
    "plt.ylabel('True Positive Rate')\n",
    "plt.title('RF ROC Curve for Training Set (CV=5)')\n",
    "plt.legend(loc='lower right')\n",
    "plt.show()"
   ]
  },
  {
   "cell_type": "code",
   "execution_count": null,
   "metadata": {},
   "outputs": [],
   "source": [
    "rf_cv_preds = cross_val_predict(rf, X_train, y_train, cv=5, method='predict')\n",
    "print(classification_report(y_train, rf_cv_preds))"
   ]
  },
  {
   "cell_type": "code",
   "execution_count": null,
   "metadata": {},
   "outputs": [],
   "source": [
    "cm = confusion_matrix(y_train, rf_cv_preds)\n",
    "display = ConfusionMatrixDisplay(confusion_matrix=cm)\n",
    "display.plot(cmap='cividis')\n",
    "plt.grid(False);"
   ]
  },
  {
   "cell_type": "code",
   "execution_count": null,
   "metadata": {},
   "outputs": [],
   "source": [
    "rf_param_grid = {'criterion': ['gini', 'entropy'],\n",
    "                 'max_depth': [None, 10, 20],\n",
    "                 'max_features': ['sqrt', None]}\n",
    "rf_gs = GridSearchCV(rf, rf_param_grid, cv=5)\n",
    "rf_gs.fit(X_train, y_train)\n",
    "rf_gs.best_estimator_"
   ]
  },
  {
   "cell_type": "code",
   "execution_count": null,
   "metadata": {},
   "outputs": [],
   "source": [
    "pd.DataFrame(rf_gs.cv_results_)"
   ]
  },
  {
   "cell_type": "code",
   "execution_count": null,
   "metadata": {},
   "outputs": [],
   "source": [
    "rf_best = RandomForestClassifier(max_depth=20, max_features='sqrt')\n",
    "rf_best_cv = cross_val_predict(rf_best, X_train, y_train, cv=5, method='predict_proba')\n",
    "\n",
    "train_fpr, train_tpr, thresholds = roc_curve(y_train, rf_best_cv[:,1])\n",
    "roc_auc = auc(train_fpr, train_tpr)"
   ]
  },
  {
   "cell_type": "code",
   "execution_count": null,
   "metadata": {},
   "outputs": [],
   "source": [
    "plt.figure(figsize=(10, 8))\n",
    "lw = 2\n",
    "plt.plot(train_fpr, train_tpr, color='darkorange', lw=lw, label=f'ROC curve = {round(roc_auc, 2)}')\n",
    "plt.plot([0, 1], [0, 1], color='navy', lw=lw, linestyle='--')\n",
    "plt.xlim([0.0, 1.0])\n",
    "plt.ylim([0.0, 1.05])\n",
    "plt.yticks([i/20.0 for i in range(21)])\n",
    "plt.xticks([i/20.0 for i in range(21)])\n",
    "plt.xlabel('False Positive Rate')\n",
    "plt.ylabel('True Positive Rate')\n",
    "plt.title('RF ROC Curve for Training Set (CV=5)')\n",
    "plt.legend(loc='lower right')\n",
    "plt.show()"
   ]
  },
  {
   "cell_type": "code",
   "execution_count": null,
   "metadata": {},
   "outputs": [],
   "source": [
    "rf_best_cv_preds = cross_val_predict(rf_best, X_train, y_train, cv=5, method='predict')\n",
    "print(classification_report(y_train, rf_best_cv_preds))"
   ]
  },
  {
   "cell_type": "code",
   "execution_count": null,
   "metadata": {},
   "outputs": [],
   "source": [
    "cm = confusion_matrix(y_train, rf_best_cv_preds)\n",
    "display = ConfusionMatrixDisplay(confusion_matrix=cm)\n",
    "display.plot(cmap='cividis')\n",
    "plt.grid(False);"
   ]
  },
  {
   "cell_type": "code",
   "execution_count": null,
   "metadata": {},
   "outputs": [],
   "source": [
    "with open('rf_best_cv.pickle', 'wb') as f:\n",
    "    pickle.dump(rf_best_cv, f)\n",
    "    \n",
    "with open('rf_best_cv_preds.pickle', 'wb') as f:\n",
    "    pickle.dump(rf_best_cv_preds, f)  "
   ]
  },
  {
   "cell_type": "markdown",
   "metadata": {},
   "source": [
    "### Aequitas Bias and Fairness Metrics"
   ]
  },
  {
   "cell_type": "code",
   "execution_count": null,
   "metadata": {
    "scrolled": true
   },
   "outputs": [],
   "source": [
    "!pip install aequitas"
   ]
  },
  {
   "cell_type": "code",
   "execution_count": null,
   "metadata": {},
   "outputs": [],
   "source": [
    "from aequitas.preprocessing import preprocess_input_df\n",
    "from aequitas.group import Group\n",
    "from aequitas.bias import Bias\n",
    "from aequitas.fairness import Fairness\n",
    "from aequitas.plotting import Plot"
   ]
  },
  {
   "cell_type": "code",
   "execution_count": null,
   "metadata": {
    "scrolled": false
   },
   "outputs": [],
   "source": [
    "bias_groups = ['income', 'customer_age', 'employment_status']\n",
    "logreg_preds_df = pd.Series(cv_preds, name='score')\n",
    "logreg_aq_train = pd.concat([X_train[bias_groups], y_train, logreg_preds_df], axis=1)\n",
    "logreg_aq_train.rename(columns={'fraud_bool': 'label_value'}, inplace=True)\n",
    "logreg_aq_train"
   ]
  },
  {
   "cell_type": "code",
   "execution_count": null,
   "metadata": {},
   "outputs": [],
   "source": [
    "logreg_aq_train, _ = preprocess_input_df(logreg_aq_train)"
   ]
  },
  {
   "cell_type": "code",
   "execution_count": null,
   "metadata": {},
   "outputs": [],
   "source": [
    "logreg_aq_train"
   ]
  },
  {
   "cell_type": "code",
   "execution_count": null,
   "metadata": {},
   "outputs": [],
   "source": [
    "g = Group()\n",
    "logreg_xtab, _ = g.get_crosstabs(logreg_aq_train)"
   ]
  },
  {
   "cell_type": "code",
   "execution_count": null,
   "metadata": {},
   "outputs": [],
   "source": [
    "aqp = Plot()\n",
    "fpr = aqp.plot_group_metric(logreg_xtab, 'fpr', ax_lim=0.4)"
   ]
  },
  {
   "cell_type": "code",
   "execution_count": null,
   "metadata": {},
   "outputs": [],
   "source": [
    "def fprplot(df):\n",
    "    g = Group()\n",
    "    xtab, _ = g.get_crosstabs(df)\n",
    "    \n",
    "    aqp = Plot()\n",
    "    fpr = aqp.plot_group_metric(xtab, 'fpr')"
   ]
  },
  {
   "cell_type": "code",
   "execution_count": null,
   "metadata": {},
   "outputs": [],
   "source": []
  },
  {
   "cell_type": "code",
   "execution_count": null,
   "metadata": {},
   "outputs": [],
   "source": []
  },
  {
   "cell_type": "markdown",
   "metadata": {},
   "source": [
    "## Model Evaluation"
   ]
  },
  {
   "cell_type": "code",
   "execution_count": null,
   "metadata": {},
   "outputs": [],
   "source": [
    "rf_best.fit(X_train, y_train)\n",
    "rf_best_test_proba = rf_best.predict_proba(X_test)\n",
    "\n",
    "test_fpr, test_tpr, thresholds = roc_curve(y_test, rf_best_test_proba[:,1])\n",
    "roc_auc = auc(test_fpr, test_tpr)"
   ]
  },
  {
   "cell_type": "code",
   "execution_count": null,
   "metadata": {},
   "outputs": [],
   "source": [
    "plt.figure(figsize=(10, 8))\n",
    "lw = 2\n",
    "plt.plot(train_fpr, train_tpr, color='darkorange', lw=lw, label=f'ROC curve = {round(roc_auc, 2)}')\n",
    "plt.plot([0, 1], [0, 1], color='navy', lw=lw, linestyle='--')\n",
    "plt.xlim([0.0, 1.0])\n",
    "plt.ylim([0.0, 1.05])\n",
    "plt.yticks([i/20.0 for i in range(21)])\n",
    "plt.xticks([i/20.0 for i in range(21)])\n",
    "plt.xlabel('False Positive Rate')\n",
    "plt.ylabel('True Positive Rate')\n",
    "plt.title('RF ROC Curve for Training Set (CV=5)')\n",
    "plt.legend(loc='lower right')\n",
    "plt.show()"
   ]
  },
  {
   "cell_type": "code",
   "execution_count": null,
   "metadata": {},
   "outputs": [],
   "source": []
  },
  {
   "cell_type": "code",
   "execution_count": null,
   "metadata": {},
   "outputs": [],
   "source": []
  },
  {
   "cell_type": "markdown",
   "metadata": {},
   "source": [
    "## Conclusion"
   ]
  },
  {
   "cell_type": "code",
   "execution_count": null,
   "metadata": {},
   "outputs": [],
   "source": []
  }
 ],
 "metadata": {
  "kernelspec": {
   "display_name": "Python (learn-env)",
   "language": "python",
   "name": "learn-env"
  },
  "language_info": {
   "codemirror_mode": {
    "name": "ipython",
    "version": 3
   },
   "file_extension": ".py",
   "mimetype": "text/x-python",
   "name": "python",
   "nbconvert_exporter": "python",
   "pygments_lexer": "ipython3",
   "version": "3.8.5"
  }
 },
 "nbformat": 4,
 "nbformat_minor": 4
}
