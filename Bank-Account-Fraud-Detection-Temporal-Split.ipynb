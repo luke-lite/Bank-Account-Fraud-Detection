{
 "cells": [
  {
   "cell_type": "markdown",
   "metadata": {},
   "source": [
    "# Bank Account Fraud Detection\n",
    "\n",
    "## Luke DiPerna\n",
    "\n",
    "### January 2023\n",
    "\n",
    "\n",
    "\n",
    "Photo by <a href=\"https://unsplash.com/@rupixen?utm_source=unsplash&utm_medium=referral&utm_content=creditCopyText\">rupixen.com</a> on <a href=\"https://unsplash.com/s/photos/credit-card?utm_source=unsplash&utm_medium=referral&utm_content=creditCopyText\">Unsplash</a>\n",
    "  "
   ]
  },
  {
   "cell_type": "markdown",
   "metadata": {},
   "source": [
    "## Project Goal\n",
    "***\n",
    "The goal of this project is to accurately and responsibly predict fraudulent bank account applications. The stakeholder is the Office of the Comptroller of the Currency (OCC), an independent bureau of the US Department of the Treasury. The OCC is responsible for regulating and supervising all national banks.\n",
    "\n",
    "With the rise in reliance on machine learning models to detect things like fraudulent bank account applications, there is growing concern about the bias that is often \"built-in\" to these models. (See examples here, here, here, etc.). The OCC, whose mission is in part to be a supervisor who \"promotes a vibrant and diverse banking system that benefits consumers, communities, businesses, and the U.S. economy\" ([link](https://www.occ.gov/about/index-about.html)), wishes to examine machine learning models and practices that will balance the needs of the banks while ensuring that consumers are not subject to discrimination and unfair treatment. In doing so, they can begin to establish industry standards to ensure that banks implement non-discriminatory practices.\n",
    "\n",
    "To do this, certain protected classes/information will be be anonymized. Additionally, since the dataset is heavily imbalanced, accuracy is not a suitable metric. Instead, models will be judged by their precision (true positive rate) at a set false positive rate. The results must also not show bias towards any particular group among the protected classes. For a more detailed description of how the data and methods will account for this, please see ________________."
   ]
  },
  {
   "cell_type": "markdown",
   "metadata": {},
   "source": [
    "## Table of Contents"
   ]
  },
  {
   "cell_type": "markdown",
   "metadata": {},
   "source": [
    "## Data"
   ]
  },
  {
   "cell_type": "markdown",
   "metadata": {},
   "source": [
    "## Methods/Metrics"
   ]
  },
  {
   "cell_type": "markdown",
   "metadata": {},
   "source": [
    "## Exploratory Data Analysis (EDA)\n",
    "\n",
    "Since the dataset is mostly cleaned already, there is not much pre-processing or preparation needed. Instead, I will focus on gaining a solid understanding of what is in the dataset, and how to most effectively utilize it."
   ]
  },
  {
   "cell_type": "code",
   "execution_count": 1,
   "metadata": {},
   "outputs": [],
   "source": [
    "import pandas as pd\n",
    "import numpy as np\n",
    "import matplotlib.pyplot as plt\n",
    "import seaborn as sns\n",
    "import pickle\n",
    "from imblearn.under_sampling import RandomUnderSampler\n",
    "from sklearn.linear_model import LogisticRegression\n",
    "from sklearn.model_selection import GridSearchCV, cross_validate, cross_val_score, cross_val_predict\n",
    "from sklearn.metrics import roc_curve, auc, RocCurveDisplay, classification_report, confusion_matrix, ConfusionMatrixDisplay, make_scorer\n",
    "from sklearn.preprocessing import LabelEncoder, StandardScaler\n",
    "from sklearn.ensemble import RandomForestClassifier\n",
    "from sklearn.pipeline import Pipeline\n",
    "from sklearn.neighbors import KNeighborsClassifier\n",
    "\n",
    "%matplotlib inline\n",
    "seed = 99\n",
    "sns.set_style('darkgrid', {'axes.facecolor': '0.9'})\n",
    "fpr_max = 0.05\n",
    "\n",
    "# with open('clf.pickle', 'rb') as f:\n",
    "#     clf = pickle.load(f)"
   ]
  },
  {
   "cell_type": "code",
   "execution_count": 2,
   "metadata": {},
   "outputs": [
    {
     "data": {
      "text/html": [
       "<div>\n",
       "<style scoped>\n",
       "    .dataframe tbody tr th:only-of-type {\n",
       "        vertical-align: middle;\n",
       "    }\n",
       "\n",
       "    .dataframe tbody tr th {\n",
       "        vertical-align: top;\n",
       "    }\n",
       "\n",
       "    .dataframe thead th {\n",
       "        text-align: right;\n",
       "    }\n",
       "</style>\n",
       "<table border=\"1\" class=\"dataframe\">\n",
       "  <thead>\n",
       "    <tr style=\"text-align: right;\">\n",
       "      <th></th>\n",
       "      <th>fraud_bool</th>\n",
       "      <th>income</th>\n",
       "      <th>name_email_similarity</th>\n",
       "      <th>prev_address_months_count</th>\n",
       "      <th>current_address_months_count</th>\n",
       "      <th>customer_age</th>\n",
       "      <th>days_since_request</th>\n",
       "      <th>intended_balcon_amount</th>\n",
       "      <th>payment_type</th>\n",
       "      <th>zip_count_4w</th>\n",
       "      <th>...</th>\n",
       "      <th>has_other_cards</th>\n",
       "      <th>proposed_credit_limit</th>\n",
       "      <th>foreign_request</th>\n",
       "      <th>source</th>\n",
       "      <th>session_length_in_minutes</th>\n",
       "      <th>device_os</th>\n",
       "      <th>keep_alive_session</th>\n",
       "      <th>device_distinct_emails_8w</th>\n",
       "      <th>device_fraud_count</th>\n",
       "      <th>month</th>\n",
       "    </tr>\n",
       "  </thead>\n",
       "  <tbody>\n",
       "    <tr>\n",
       "      <th>0</th>\n",
       "      <td>1</td>\n",
       "      <td>0.9</td>\n",
       "      <td>0.166828</td>\n",
       "      <td>-1</td>\n",
       "      <td>88</td>\n",
       "      <td>50</td>\n",
       "      <td>0.020925</td>\n",
       "      <td>-1.331345</td>\n",
       "      <td>AA</td>\n",
       "      <td>769</td>\n",
       "      <td>...</td>\n",
       "      <td>0</td>\n",
       "      <td>500.0</td>\n",
       "      <td>0</td>\n",
       "      <td>INTERNET</td>\n",
       "      <td>3.888115</td>\n",
       "      <td>windows</td>\n",
       "      <td>0</td>\n",
       "      <td>1</td>\n",
       "      <td>0</td>\n",
       "      <td>7</td>\n",
       "    </tr>\n",
       "    <tr>\n",
       "      <th>1</th>\n",
       "      <td>1</td>\n",
       "      <td>0.9</td>\n",
       "      <td>0.296286</td>\n",
       "      <td>-1</td>\n",
       "      <td>144</td>\n",
       "      <td>50</td>\n",
       "      <td>0.005418</td>\n",
       "      <td>-0.816224</td>\n",
       "      <td>AB</td>\n",
       "      <td>366</td>\n",
       "      <td>...</td>\n",
       "      <td>0</td>\n",
       "      <td>1500.0</td>\n",
       "      <td>0</td>\n",
       "      <td>INTERNET</td>\n",
       "      <td>31.798819</td>\n",
       "      <td>windows</td>\n",
       "      <td>0</td>\n",
       "      <td>1</td>\n",
       "      <td>0</td>\n",
       "      <td>7</td>\n",
       "    </tr>\n",
       "    <tr>\n",
       "      <th>2</th>\n",
       "      <td>1</td>\n",
       "      <td>0.9</td>\n",
       "      <td>0.044985</td>\n",
       "      <td>-1</td>\n",
       "      <td>132</td>\n",
       "      <td>40</td>\n",
       "      <td>3.108549</td>\n",
       "      <td>-0.755728</td>\n",
       "      <td>AC</td>\n",
       "      <td>870</td>\n",
       "      <td>...</td>\n",
       "      <td>0</td>\n",
       "      <td>200.0</td>\n",
       "      <td>0</td>\n",
       "      <td>INTERNET</td>\n",
       "      <td>4.728705</td>\n",
       "      <td>other</td>\n",
       "      <td>0</td>\n",
       "      <td>1</td>\n",
       "      <td>0</td>\n",
       "      <td>7</td>\n",
       "    </tr>\n",
       "    <tr>\n",
       "      <th>3</th>\n",
       "      <td>1</td>\n",
       "      <td>0.9</td>\n",
       "      <td>0.159511</td>\n",
       "      <td>-1</td>\n",
       "      <td>22</td>\n",
       "      <td>50</td>\n",
       "      <td>0.019079</td>\n",
       "      <td>-1.205124</td>\n",
       "      <td>AB</td>\n",
       "      <td>810</td>\n",
       "      <td>...</td>\n",
       "      <td>1</td>\n",
       "      <td>200.0</td>\n",
       "      <td>0</td>\n",
       "      <td>INTERNET</td>\n",
       "      <td>2.047904</td>\n",
       "      <td>linux</td>\n",
       "      <td>0</td>\n",
       "      <td>1</td>\n",
       "      <td>0</td>\n",
       "      <td>7</td>\n",
       "    </tr>\n",
       "    <tr>\n",
       "      <th>4</th>\n",
       "      <td>1</td>\n",
       "      <td>0.9</td>\n",
       "      <td>0.596414</td>\n",
       "      <td>-1</td>\n",
       "      <td>218</td>\n",
       "      <td>50</td>\n",
       "      <td>0.004441</td>\n",
       "      <td>-0.773276</td>\n",
       "      <td>AB</td>\n",
       "      <td>890</td>\n",
       "      <td>...</td>\n",
       "      <td>0</td>\n",
       "      <td>1500.0</td>\n",
       "      <td>0</td>\n",
       "      <td>INTERNET</td>\n",
       "      <td>3.775225</td>\n",
       "      <td>macintosh</td>\n",
       "      <td>1</td>\n",
       "      <td>1</td>\n",
       "      <td>0</td>\n",
       "      <td>7</td>\n",
       "    </tr>\n",
       "  </tbody>\n",
       "</table>\n",
       "<p>5 rows × 32 columns</p>\n",
       "</div>"
      ],
      "text/plain": [
       "   fraud_bool  income  name_email_similarity  prev_address_months_count  \\\n",
       "0           1     0.9               0.166828                         -1   \n",
       "1           1     0.9               0.296286                         -1   \n",
       "2           1     0.9               0.044985                         -1   \n",
       "3           1     0.9               0.159511                         -1   \n",
       "4           1     0.9               0.596414                         -1   \n",
       "\n",
       "   current_address_months_count  customer_age  days_since_request  \\\n",
       "0                            88            50            0.020925   \n",
       "1                           144            50            0.005418   \n",
       "2                           132            40            3.108549   \n",
       "3                            22            50            0.019079   \n",
       "4                           218            50            0.004441   \n",
       "\n",
       "   intended_balcon_amount payment_type  zip_count_4w  ...  has_other_cards  \\\n",
       "0               -1.331345           AA           769  ...                0   \n",
       "1               -0.816224           AB           366  ...                0   \n",
       "2               -0.755728           AC           870  ...                0   \n",
       "3               -1.205124           AB           810  ...                1   \n",
       "4               -0.773276           AB           890  ...                0   \n",
       "\n",
       "   proposed_credit_limit  foreign_request    source  \\\n",
       "0                  500.0                0  INTERNET   \n",
       "1                 1500.0                0  INTERNET   \n",
       "2                  200.0                0  INTERNET   \n",
       "3                  200.0                0  INTERNET   \n",
       "4                 1500.0                0  INTERNET   \n",
       "\n",
       "   session_length_in_minutes  device_os  keep_alive_session  \\\n",
       "0                   3.888115    windows                   0   \n",
       "1                  31.798819    windows                   0   \n",
       "2                   4.728705      other                   0   \n",
       "3                   2.047904      linux                   0   \n",
       "4                   3.775225  macintosh                   1   \n",
       "\n",
       "   device_distinct_emails_8w device_fraud_count  month  \n",
       "0                          1                  0      7  \n",
       "1                          1                  0      7  \n",
       "2                          1                  0      7  \n",
       "3                          1                  0      7  \n",
       "4                          1                  0      7  \n",
       "\n",
       "[5 rows x 32 columns]"
      ]
     },
     "execution_count": 2,
     "metadata": {},
     "output_type": "execute_result"
    }
   ],
   "source": [
    "df = pd.read_csv('bank_account_fraud_dataset.csv')\n",
    "df.head()"
   ]
  },
  {
   "cell_type": "code",
   "execution_count": 3,
   "metadata": {},
   "outputs": [
    {
     "name": "stdout",
     "output_type": "stream",
     "text": [
      "<class 'pandas.core.frame.DataFrame'>\n",
      "RangeIndex: 1000000 entries, 0 to 999999\n",
      "Data columns (total 32 columns):\n",
      " #   Column                            Non-Null Count    Dtype  \n",
      "---  ------                            --------------    -----  \n",
      " 0   fraud_bool                        1000000 non-null  int64  \n",
      " 1   income                            1000000 non-null  float64\n",
      " 2   name_email_similarity             1000000 non-null  float64\n",
      " 3   prev_address_months_count         1000000 non-null  int64  \n",
      " 4   current_address_months_count      1000000 non-null  int64  \n",
      " 5   customer_age                      1000000 non-null  int64  \n",
      " 6   days_since_request                1000000 non-null  float64\n",
      " 7   intended_balcon_amount            1000000 non-null  float64\n",
      " 8   payment_type                      1000000 non-null  object \n",
      " 9   zip_count_4w                      1000000 non-null  int64  \n",
      " 10  velocity_6h                       1000000 non-null  float64\n",
      " 11  velocity_24h                      1000000 non-null  float64\n",
      " 12  velocity_4w                       1000000 non-null  float64\n",
      " 13  bank_branch_count_8w              1000000 non-null  int64  \n",
      " 14  date_of_birth_distinct_emails_4w  1000000 non-null  int64  \n",
      " 15  employment_status                 1000000 non-null  object \n",
      " 16  credit_risk_score                 1000000 non-null  int64  \n",
      " 17  email_is_free                     1000000 non-null  int64  \n",
      " 18  housing_status                    1000000 non-null  object \n",
      " 19  phone_home_valid                  1000000 non-null  int64  \n",
      " 20  phone_mobile_valid                1000000 non-null  int64  \n",
      " 21  bank_months_count                 1000000 non-null  int64  \n",
      " 22  has_other_cards                   1000000 non-null  int64  \n",
      " 23  proposed_credit_limit             1000000 non-null  float64\n",
      " 24  foreign_request                   1000000 non-null  int64  \n",
      " 25  source                            1000000 non-null  object \n",
      " 26  session_length_in_minutes         1000000 non-null  float64\n",
      " 27  device_os                         1000000 non-null  object \n",
      " 28  keep_alive_session                1000000 non-null  int64  \n",
      " 29  device_distinct_emails_8w         1000000 non-null  int64  \n",
      " 30  device_fraud_count                1000000 non-null  int64  \n",
      " 31  month                             1000000 non-null  int64  \n",
      "dtypes: float64(9), int64(18), object(5)\n",
      "memory usage: 244.1+ MB\n"
     ]
    }
   ],
   "source": [
    "df.info()"
   ]
  },
  {
   "cell_type": "markdown",
   "metadata": {},
   "source": [
    "As expected, the dataset has no missing values. There are several `object` columns, however, and these need to be changed into numeric dtypes before I can train the models. I will examine the column values before transforming them so I know what kind of information is contained before it becomes abstracted."
   ]
  },
  {
   "cell_type": "code",
   "execution_count": 4,
   "metadata": {},
   "outputs": [
    {
     "name": "stdout",
     "output_type": "stream",
     "text": [
      "AB    370554\n",
      "AA    258249\n",
      "AC    252071\n",
      "AD    118837\n",
      "AE       289\n",
      "Name: payment_type, dtype: int64\n",
      "CA    730252\n",
      "CB    138288\n",
      "CF     44034\n",
      "CC     37758\n",
      "CD     26522\n",
      "CE     22693\n",
      "CG       453\n",
      "Name: employment_status, dtype: int64\n",
      "BC    372143\n",
      "BB    260965\n",
      "BA    169675\n",
      "BE    169135\n",
      "BD     26161\n",
      "BF      1669\n",
      "BG       252\n",
      "Name: housing_status, dtype: int64\n",
      "INTERNET    992952\n",
      "TELEAPP       7048\n",
      "Name: source, dtype: int64\n",
      "other        342728\n",
      "linux        332712\n",
      "windows      263506\n",
      "macintosh     53826\n",
      "x11            7228\n",
      "Name: device_os, dtype: int64\n"
     ]
    }
   ],
   "source": [
    "for column in df.select_dtypes('object').columns:\n",
    "    print(df[column].value_counts())"
   ]
  },
  {
   "cell_type": "markdown",
   "metadata": {},
   "source": [
    "`payment_type`, `employment_status`, and `housing_status` have already been anonymized since they contain protected information, as discussed HERE.  Now that I know what kind of information each feature contains, I will use an encoder to change each column into interger values."
   ]
  },
  {
   "cell_type": "code",
   "execution_count": 5,
   "metadata": {},
   "outputs": [
    {
     "name": "stdout",
     "output_type": "stream",
     "text": [
      "<class 'pandas.core.frame.DataFrame'>\n",
      "RangeIndex: 1000000 entries, 0 to 999999\n",
      "Data columns (total 32 columns):\n",
      " #   Column                            Non-Null Count    Dtype  \n",
      "---  ------                            --------------    -----  \n",
      " 0   fraud_bool                        1000000 non-null  int64  \n",
      " 1   income                            1000000 non-null  float64\n",
      " 2   name_email_similarity             1000000 non-null  float64\n",
      " 3   prev_address_months_count         1000000 non-null  int64  \n",
      " 4   current_address_months_count      1000000 non-null  int64  \n",
      " 5   customer_age                      1000000 non-null  int64  \n",
      " 6   days_since_request                1000000 non-null  float64\n",
      " 7   intended_balcon_amount            1000000 non-null  float64\n",
      " 8   payment_type                      1000000 non-null  int32  \n",
      " 9   zip_count_4w                      1000000 non-null  int64  \n",
      " 10  velocity_6h                       1000000 non-null  float64\n",
      " 11  velocity_24h                      1000000 non-null  float64\n",
      " 12  velocity_4w                       1000000 non-null  float64\n",
      " 13  bank_branch_count_8w              1000000 non-null  int64  \n",
      " 14  date_of_birth_distinct_emails_4w  1000000 non-null  int64  \n",
      " 15  employment_status                 1000000 non-null  int32  \n",
      " 16  credit_risk_score                 1000000 non-null  int64  \n",
      " 17  email_is_free                     1000000 non-null  int64  \n",
      " 18  housing_status                    1000000 non-null  int32  \n",
      " 19  phone_home_valid                  1000000 non-null  int64  \n",
      " 20  phone_mobile_valid                1000000 non-null  int64  \n",
      " 21  bank_months_count                 1000000 non-null  int64  \n",
      " 22  has_other_cards                   1000000 non-null  int64  \n",
      " 23  proposed_credit_limit             1000000 non-null  float64\n",
      " 24  foreign_request                   1000000 non-null  int64  \n",
      " 25  source                            1000000 non-null  int32  \n",
      " 26  session_length_in_minutes         1000000 non-null  float64\n",
      " 27  device_os                         1000000 non-null  int32  \n",
      " 28  keep_alive_session                1000000 non-null  int64  \n",
      " 29  device_distinct_emails_8w         1000000 non-null  int64  \n",
      " 30  device_fraud_count                1000000 non-null  int64  \n",
      " 31  month                             1000000 non-null  int64  \n",
      "dtypes: float64(9), int32(5), int64(18)\n",
      "memory usage: 225.1 MB\n"
     ]
    }
   ],
   "source": [
    "for column in df.select_dtypes('object').columns:\n",
    "    label_encoder = LabelEncoder()\n",
    "    df[column] = label_encoder.fit_transform(df[column])\n",
    "df.info()"
   ]
  },
  {
   "cell_type": "markdown",
   "metadata": {},
   "source": [
    "As seen above, all of the columns are now numeric, and can be used to train the models. I will now examine one of the transformed columns to demonstrate how the values have been changed, and examine the distribution in the target column: `fraud_boolean`, which is the feature the models will attempt to predict."
   ]
  },
  {
   "cell_type": "code",
   "execution_count": 6,
   "metadata": {},
   "outputs": [
    {
     "data": {
      "text/plain": [
       "1    370554\n",
       "0    258249\n",
       "2    252071\n",
       "3    118837\n",
       "4       289\n",
       "Name: payment_type, dtype: int64"
      ]
     },
     "execution_count": 6,
     "metadata": {},
     "output_type": "execute_result"
    }
   ],
   "source": [
    "df['payment_type'].value_counts()"
   ]
  },
  {
   "cell_type": "code",
   "execution_count": 7,
   "metadata": {},
   "outputs": [
    {
     "data": {
      "text/plain": [
       "0    988971\n",
       "1     11029\n",
       "Name: fraud_bool, dtype: int64"
      ]
     },
     "execution_count": 7,
     "metadata": {},
     "output_type": "execute_result"
    }
   ],
   "source": [
    "df['fraud_bool'].value_counts()"
   ]
  },
  {
   "cell_type": "markdown",
   "metadata": {},
   "source": [
    "The data is highly imbalanced, so I will employ undersampling to create a more balanced training dataset. But first, I want to look at the distribution of all features in the set."
   ]
  },
  {
   "cell_type": "code",
   "execution_count": 8,
   "metadata": {
    "scrolled": false
   },
   "outputs": [
    {
     "data": {
      "image/png": "[encoded data removed]",
      "text/plain": [
       "<Figure size 1440x1440 with 36 Axes>"
      ]
     },
     "metadata": {},
     "output_type": "display_data"
    }
   ],
   "source": [
    "df.hist(figsize=(20,20));"
   ]
  },
  {
   "cell_type": "markdown",
   "metadata": {},
   "source": [
    "Some of the feature values are not immediately comprehensible, but a detailed breakdown of each of the features can be found HERE. I want to check the correlation between the target variable and the other features. Because of the imbalanced data, the correlation scores should all be pretty low, but there may be a few features that stand out. I will also drop `device_fraud_count` since it contains only zeroes."
   ]
  },
  {
   "cell_type": "code",
   "execution_count": 9,
   "metadata": {},
   "outputs": [
    {
     "data": {
      "text/plain": [
       "fraud_bool                          1.000000\n",
       "credit_risk_score                   0.070624\n",
       "proposed_credit_limit               0.068907\n",
       "customer_age                        0.062959\n",
       "device_os                           0.057834\n",
       "income                              0.045079\n",
       "device_distinct_emails_8w           0.035704\n",
       "current_address_months_count        0.033701\n",
       "payment_type                        0.028304\n",
       "email_is_free                       0.027758\n",
       "foreign_request                     0.016885\n",
       "month                               0.013250\n",
       "session_length_in_minutes           0.008999\n",
       "zip_count_4w                        0.005212\n",
       "source                              0.003922\n",
       "days_since_request                  0.000567\n",
       "bank_months_count                  -0.003222\n",
       "velocity_24h                       -0.011183\n",
       "velocity_4w                        -0.011536\n",
       "bank_branch_count_8w               -0.011577\n",
       "phone_mobile_valid                 -0.013180\n",
       "velocity_6h                        -0.016892\n",
       "employment_status                  -0.021676\n",
       "intended_balcon_amount             -0.024524\n",
       "prev_address_months_count          -0.026031\n",
       "phone_home_valid                   -0.035128\n",
       "has_other_cards                    -0.035156\n",
       "name_email_similarity              -0.036720\n",
       "date_of_birth_distinct_emails_4w   -0.043224\n",
       "keep_alive_session                 -0.050296\n",
       "housing_status                     -0.078000\n",
       "Name: fraud_bool, dtype: float64"
      ]
     },
     "execution_count": 9,
     "metadata": {},
     "output_type": "execute_result"
    }
   ],
   "source": [
    "df.drop('device_fraud_count', axis=1, inplace=True)\n",
    "df.corr()['fraud_bool'].sort_values(ascending=False)"
   ]
  },
  {
   "cell_type": "markdown",
   "metadata": {},
   "source": [
    "As expected, most of the features are minimally correlated (`corr` < 0.05), but there are a few features on the positive and negative end that indicate a slightly stronger relationship. `credit_risk_score` and `housing_status` both have an absolute correlation of over 0.07, indicating that they may be more useful in determining fraud. This is an incredibly simplistic metric, but gives me a few things to consider as I move in to deeper analysis.\n",
    "\n",
    "Next, I will prepare the data for modeling by splitting the data into training and test splits, and performing undersampling on the training set. Undersampling will achieve 2 goals:\n",
    "\n",
    "1. It allows the models to place more importance on identifying the fraudulent applications.\n",
    "2. It reduces the overall number of datapoints. Due to technical limitations and the size of the original dataset, I am unable to build models in a reasonable fashion using the entire dataset.\n",
    "\n",
    "Ideally, I could instead use oversampling on the positive class to solve issue 1. However, the would greatly exacerbate the second issue. I will leave the test set unchanged, however."
   ]
  },
  {
   "cell_type": "code",
   "execution_count": 10,
   "metadata": {},
   "outputs": [],
   "source": [
    "X = df.drop('fraud_bool', axis=1)\n",
    "y = df['fraud_bool']\n",
    "# train/test split determined by the month in which the data was gathered.\n",
    "X_train = X[X['month'] < 6]\n",
    "X_test = X[X['month'] >= 6]\n",
    "y_train = y[X['month'] < 6]\n",
    "y_test = y[X['month'] >= 6]"
   ]
  },
  {
   "cell_type": "code",
   "execution_count": 11,
   "metadata": {},
   "outputs": [
    {
     "data": {
      "text/plain": [
       "0    786838\n",
       "1      8151\n",
       "Name: fraud_bool, dtype: int64"
      ]
     },
     "execution_count": 11,
     "metadata": {},
     "output_type": "execute_result"
    }
   ],
   "source": [
    "y_train.value_counts()"
   ]
  },
  {
   "cell_type": "code",
   "execution_count": 12,
   "metadata": {},
   "outputs": [
    {
     "data": {
      "text/plain": [
       "0    202133\n",
       "1      2878\n",
       "Name: fraud_bool, dtype: int64"
      ]
     },
     "execution_count": 12,
     "metadata": {},
     "output_type": "execute_result"
    }
   ],
   "source": [
    "y_test.value_counts()"
   ]
  },
  {
   "cell_type": "code",
   "execution_count": 13,
   "metadata": {},
   "outputs": [
    {
     "data": {
      "text/plain": [
       "0    81510\n",
       "1     8151\n",
       "Name: fraud_bool, dtype: int64"
      ]
     },
     "execution_count": 13,
     "metadata": {},
     "output_type": "execute_result"
    }
   ],
   "source": [
    "under_sampler = RandomUnderSampler(sampling_strategy=.1, random_state=seed)\n",
    "X_train, y_train = under_sampler.fit_resample(X_train, y_train)\n",
    "\n",
    "y_train.value_counts()"
   ]
  },
  {
   "cell_type": "markdown",
   "metadata": {},
   "source": [
    "## Modeling\n",
    "***\n",
    "Now that the data is prepared, I will iteratively create a series of models as I attempt to refine and improve upon each successive model. As mentioned above, I will be using recall, also known as the true positive rate (TPR) at a set false positive rate (FPR) to measure the effectiveness of each model. In this case, the FPR is 5%, which means that each of the models I create will have a false positive rate of 5%. From there, I will try to maximize the true positive rate.\n",
    "\n",
    "Since this is a classification task, I will begin with a relatively simple logistic regression model as my baseline. I will use this baseline model to compare against future models.\n",
    "\n",
    "After creating my baseline model, I will create K-Nearest Neighbors (KNN) models as well as Random Forest (RF) models. I go into more detail about the relative merits of each down below, but both are traditionally reliable methods for this type of classification problem. "
   ]
  },
  {
   "cell_type": "markdown",
   "metadata": {},
   "source": [
    "### Custom Functions\n",
    "\n",
    "I will create several functions to help me measure and compare each model. The functions will include:\n",
    "\n",
    "- custom scorer\n",
    "- `ModelEval` class\n",
    "\n",
    "The custom scorer will use `custom_tpr_func` to calculate the Receving Operating Characteristic (ROC) curve and return the TPR at the set FPR of 0.05.\n",
    "\n",
    "The `ModelEval` class will allow me to measure the key metrics for each model and compare them to previous models. The class includes methods for finding the cross-validation score, plotting the ROC curve, building a confusion matrix, and returning the classification report."
   ]
  },
  {
   "cell_type": "code",
   "execution_count": 14,
   "metadata": {},
   "outputs": [],
   "source": [
    "# create dataframe to compare various models\n",
    "score_df = pd.DataFrame(columns = ['model name', 'tpr', 'roc_auc'])"
   ]
  },
  {
   "cell_type": "code",
   "execution_count": 15,
   "metadata": {},
   "outputs": [],
   "source": [
    "# scoring function to return the tpr at a set fpr\n",
    "def custom_tpr_func(y_true, y_preds, fpr_max=fpr_max):\n",
    "    \n",
    "    fpr, tpr, thresholds = roc_curve(y_true, y_preds)\n",
    "    \n",
    "#     score_fpr = fpr[fpr<fpr_max][-1]\n",
    "    score_tpr = tpr[fpr<fpr_max][-1]\n",
    "#     score_threshold = thresholds[fpr<fpr_max][-1]\n",
    "    \n",
    "    return score_tpr\n",
    "\n",
    "# custom scorer to use in cross validation\n",
    "tpr_scorer = make_scorer(custom_tpr_func, greater_is_better=True, needs_threshold=True)"
   ]
  },
  {
   "cell_type": "code",
   "execution_count": 16,
   "metadata": {},
   "outputs": [],
   "source": [
    "class ModelEval():\n",
    "    '''\n",
    "    \n",
    "    '''\n",
    "    \n",
    "    def __init__(self, model, model_name, score_df, fpr_max=0.05):\n",
    "        \n",
    "        self._model = model\n",
    "        self._model_name = model_name\n",
    "        self._score_df = score_df\n",
    "        self._fpr_max = fpr_max\n",
    "    \n",
    "    def cv_proba(self, X_train, y_train, method, cv=5):\n",
    "        \n",
    "#         self._X_train = X_train\n",
    "#         self._y_train = y_train\n",
    "        \n",
    "        self._proba = cross_val_predict(self._model, X_train, y_train, cv=5, method=method)\n",
    "        \n",
    "        if method == 'decision_function':\n",
    "            self._fpr, self._tpr, self._thresholds = roc_curve(y_train, self._proba)\n",
    "        else:\n",
    "            self._fpr, self._tpr, self._thresholds = roc_curve(y_train, self._proba[:,1])\n",
    "        \n",
    "        self._roc_auc = auc(self._fpr, self._tpr)\n",
    "        \n",
    "        self._score_fpr = self._fpr[self._fpr<self._fpr_max][-1]\n",
    "        self._score_tpr = self._tpr[self._fpr<self._fpr_max][-1]\n",
    "        self._score_threshold = self._thresholds[self._fpr<self._fpr_max][-1]\n",
    "        \n",
    "        idx = score_df.shape[0]\n",
    "        score_df.loc[idx] = [self._model_name, self._score_tpr, self._roc_auc]\n",
    "           \n",
    "    def test_proba(self, X_train, y_train, X_test, y_test, method):\n",
    "        \n",
    "        self._model.fit(X_train, y_train)\n",
    "        \n",
    "        if method == 'decision_function':\n",
    "            self._test_proba = self._model.decision_function(X_test)\n",
    "            self._test_fpr, self._test_tpr, self._test_thresholds = roc_curve(y_test, self._test_proba)\n",
    "        elif method == 'predict_proba':\n",
    "            self._test_proba = self._model.predict_proba(X_test)\n",
    "            self._test_fpr, self._test_tpr, self._test_thresholds = roc_curve(y_test, self._test_proba[:,1])\n",
    "        \n",
    "        self._test_roc_auc = auc(self._test_fpr, self._test_tpr)\n",
    "        \n",
    "        self._test_score_fpr = self._test_fpr[self._test_fpr<self._fpr_max][-1]\n",
    "        self._test_score_tpr = self._test_tpr[self._test_fpr<self._fpr_max][-1]\n",
    "        self._test_score_threshold = self._test_thresholds[self._test_fpr<self._fpr_max][-1]\n",
    "    \n",
    "    def plot_roc(self, test_set=False):\n",
    "        \n",
    "        if test_set==False:\n",
    "            \n",
    "            horiz_offset = self._score_fpr*0.2\n",
    "            \n",
    "            plt.figure(figsize=(10, 8))\n",
    "            lw = 2\n",
    "            plt.plot(self._fpr, self._tpr, color='darkorange', lw=lw, label=f'ROC AUC = {round(self._roc_auc, 2)}')\n",
    "            plt.plot([0, 1], [0, 1], color='navy', lw=lw, linestyle='--')\n",
    "            plt.plot(self._score_fpr, self._score_tpr, marker=\"o\", markersize=5, markeredgecolor=\"black\", markerfacecolor=\"black\")\n",
    "            plt.xlim([0.0, 1.0])\n",
    "            plt.ylim([0.0, 1.05])\n",
    "            plt.yticks([i/20.0 for i in range(21)])\n",
    "            plt.xticks([i/20.0 for i in range(21)])\n",
    "            plt.text(x=self._score_fpr + horiz_offset, y=self._score_tpr, s=f'TPR = {round(self._score_tpr, 2)}', weight='semibold')\n",
    "            plt.xlabel('False Positive Rate')\n",
    "            plt.ylabel('True Positive Rate')\n",
    "            plt.title(f'{self._model_name} ROC Curve (CV=5)')\n",
    "            plt.legend(loc='lower right')\n",
    "            return plt.show()\n",
    "        \n",
    "        elif test_set==True:\n",
    "            \n",
    "            horiz_offset = self._test_score_fpr*0.2\n",
    "            \n",
    "            plt.figure(figsize=(10, 8))\n",
    "            lw = 2\n",
    "            plt.plot(self._test_fpr, self._test_tpr, color='darkorange', lw=lw, label=f'ROC AUC = {round(self._test_roc_auc, 2)}')\n",
    "            plt.plot([0, 1], [0, 1], color='navy', lw=lw, linestyle='--')\n",
    "            plt.plot(self._test_score_fpr, self._test_score_tpr, marker=\"o\", markersize=5, markeredgecolor=\"black\", markerfacecolor=\"black\")\n",
    "            plt.xlim([0.0, 1.0])\n",
    "            plt.ylim([0.0, 1.05])\n",
    "            plt.yticks([i/20.0 for i in range(21)])\n",
    "            plt.xticks([i/20.0 for i in range(21)])\n",
    "            plt.text(x=self._test_score_fpr + horiz_offset, y=self._test_score_tpr, s=f'TPR = {round(self._test_score_tpr, 2)}', weight='semibold')\n",
    "            plt.xlabel('False Positive Rate')\n",
    "            plt.ylabel('True Positive Rate')\n",
    "            plt.title(f'{self._model_name} ROC Curve')\n",
    "            plt.legend(loc='lower right')\n",
    "            return plt.show()\n",
    "    \n",
    "#     def cm(self):\n",
    "\n",
    "#         cv_preds = cross_val_predict(lr, X_train, y_train, cv=5, method='predict')\n",
    "\n",
    "#         cm = confusion_matrix(self._y_test, self._proba)\n",
    "#         display = ConfusionMatrixDisplay(confusion_matrix=cm)\n",
    "#         display.plot(cmap='cividis')\n",
    "#         plt.grid(False);\n",
    "        \n",
    "#     def class_report(self, y, proba):\n",
    "#         print(classification_report(y, proba))"
   ]
  },
  {
   "cell_type": "markdown",
   "metadata": {},
   "source": [
    "### Baseline Model: Logistic Regression\n",
    "\n",
    "Logistic regression is good choice for a baseline model because of its relative speed, incomplexity, and interpretability. It uses a logistic function to model the target variable, which in this case is whether or not the bank account application is fraudulent. Logistic regression is ideal for modeling this type of binary classification, and calculates the probability that an event will happen or not (i.e. fraudulent or not)."
   ]
  },
  {
   "cell_type": "code",
   "execution_count": 17,
   "metadata": {},
   "outputs": [],
   "source": [
    "# high C value to prevent regularization\n",
    "lr = LogisticRegression(fit_intercept=False, C=1e15, solver='liblinear')"
   ]
  },
  {
   "cell_type": "code",
   "execution_count": 18,
   "metadata": {},
   "outputs": [],
   "source": [
    "lr_eval = ModelEval(model=lr, model_name='logreg', score_df=score_df)"
   ]
  },
  {
   "cell_type": "code",
   "execution_count": 19,
   "metadata": {},
   "outputs": [],
   "source": [
    "lr_eval.cv_proba(X_train, y_train, method='decision_function', cv=5)"
   ]
  },
  {
   "cell_type": "code",
   "execution_count": 20,
   "metadata": {},
   "outputs": [
    {
     "data": {
      "text/plain": [
       "0.39246718194086616"
      ]
     },
     "execution_count": 20,
     "metadata": {},
     "output_type": "execute_result"
    }
   ],
   "source": [
    "lr_eval._score_tpr"
   ]
  },
  {
   "cell_type": "code",
   "execution_count": 21,
   "metadata": {
    "scrolled": false
   },
   "outputs": [
    {
     "data": {
      "text/html": [
       "<div>\n",
       "<style scoped>\n",
       "    .dataframe tbody tr th:only-of-type {\n",
       "        vertical-align: middle;\n",
       "    }\n",
       "\n",
       "    .dataframe tbody tr th {\n",
       "        vertical-align: top;\n",
       "    }\n",
       "\n",
       "    .dataframe thead th {\n",
       "        text-align: right;\n",
       "    }\n",
       "</style>\n",
       "<table border=\"1\" class=\"dataframe\">\n",
       "  <thead>\n",
       "    <tr style=\"text-align: right;\">\n",
       "      <th></th>\n",
       "      <th>model name</th>\n",
       "      <th>tpr</th>\n",
       "      <th>roc_auc</th>\n",
       "    </tr>\n",
       "  </thead>\n",
       "  <tbody>\n",
       "    <tr>\n",
       "      <th>0</th>\n",
       "      <td>logreg</td>\n",
       "      <td>0.392467</td>\n",
       "      <td>0.827328</td>\n",
       "    </tr>\n",
       "  </tbody>\n",
       "</table>\n",
       "</div>"
      ],
      "text/plain": [
       "  model name       tpr   roc_auc\n",
       "0     logreg  0.392467  0.827328"
      ]
     },
     "execution_count": 21,
     "metadata": {},
     "output_type": "execute_result"
    }
   ],
   "source": [
    "score_df"
   ]
  },
  {
   "cell_type": "markdown",
   "metadata": {},
   "source": [
    "The tpr score is quite low. I will attempt it again with scaled data and regularization."
   ]
  },
  {
   "cell_type": "code",
   "execution_count": 22,
   "metadata": {},
   "outputs": [],
   "source": [
    "lr_scale_pipe = Pipeline([('scaler', StandardScaler()),\n",
    "                       ('logreg', LogisticRegression(fit_intercept=False, solver='liblinear'))\n",
    "                      ])\n",
    "lr_scaled_eval = ModelEval(model=lr_scale_pipe, model_name='logreg_scaled', score_df=score_df)"
   ]
  },
  {
   "cell_type": "code",
   "execution_count": 23,
   "metadata": {},
   "outputs": [],
   "source": [
    "lr_scaled_eval.cv_proba(X_train, y_train, method='decision_function', cv=5)"
   ]
  },
  {
   "cell_type": "code",
   "execution_count": 24,
   "metadata": {},
   "outputs": [
    {
     "data": {
      "text/plain": [
       "0.40338608759661393"
      ]
     },
     "execution_count": 24,
     "metadata": {},
     "output_type": "execute_result"
    }
   ],
   "source": [
    "lr_scaled_eval._score_tpr"
   ]
  },
  {
   "cell_type": "code",
   "execution_count": 25,
   "metadata": {},
   "outputs": [
    {
     "data": {
      "text/html": [
       "<div>\n",
       "<style scoped>\n",
       "    .dataframe tbody tr th:only-of-type {\n",
       "        vertical-align: middle;\n",
       "    }\n",
       "\n",
       "    .dataframe tbody tr th {\n",
       "        vertical-align: top;\n",
       "    }\n",
       "\n",
       "    .dataframe thead th {\n",
       "        text-align: right;\n",
       "    }\n",
       "</style>\n",
       "<table border=\"1\" class=\"dataframe\">\n",
       "  <thead>\n",
       "    <tr style=\"text-align: right;\">\n",
       "      <th></th>\n",
       "      <th>model name</th>\n",
       "      <th>tpr</th>\n",
       "      <th>roc_auc</th>\n",
       "    </tr>\n",
       "  </thead>\n",
       "  <tbody>\n",
       "    <tr>\n",
       "      <th>0</th>\n",
       "      <td>logreg</td>\n",
       "      <td>0.392467</td>\n",
       "      <td>0.827328</td>\n",
       "    </tr>\n",
       "    <tr>\n",
       "      <th>1</th>\n",
       "      <td>logreg_scaled</td>\n",
       "      <td>0.403386</td>\n",
       "      <td>0.835660</td>\n",
       "    </tr>\n",
       "  </tbody>\n",
       "</table>\n",
       "</div>"
      ],
      "text/plain": [
       "      model name       tpr   roc_auc\n",
       "0         logreg  0.392467  0.827328\n",
       "1  logreg_scaled  0.403386  0.835660"
      ]
     },
     "execution_count": 25,
     "metadata": {},
     "output_type": "execute_result"
    }
   ],
   "source": [
    "score_df"
   ]
  },
  {
   "cell_type": "markdown",
   "metadata": {},
   "source": [
    "Only a slight improvement from the previous model, but this will be the baseline for our other, more complex models."
   ]
  },
  {
   "cell_type": "markdown",
   "metadata": {},
   "source": [
    "### K-Nearest Neighbors (KNN)\n",
    "\n",
    "KNN will be the next modeling method I attempt. KNN is capable of modeling multi-classification problems, but in this instance it will will be used to determine the binary classification of fraudulent or not. For any given datapoint, it uses the proximity of nearby datapoints to determine the proper classification. This is a fairly intensive method, and given the number of datapoints I am using, will require a good bit of time and resources to model. However, the added complexity will hopefully lead to a far more reliable model.\n",
    "\n",
    "I will begin with a KNN model using the default hyperparameters, then perform a grid search to tune the hyperparameters. I must first scale the data, since the distance between datapoints is crucial to the success of the model."
   ]
  },
  {
   "cell_type": "code",
   "execution_count": 26,
   "metadata": {},
   "outputs": [],
   "source": [
    "knn = KNeighborsClassifier()\n",
    "scale_pipe = Pipeline([('scaler', StandardScaler()),\n",
    "                       ('knn', knn)\n",
    "                      ])"
   ]
  },
  {
   "cell_type": "code",
   "execution_count": 27,
   "metadata": {},
   "outputs": [],
   "source": [
    "knn_scaled_eval = ModelEval(scale_pipe, 'knn_scaled', score_df)\n",
    "knn_scaled_eval.cv_proba(X_train, y_train, method='predict_proba', cv=5)"
   ]
  },
  {
   "cell_type": "code",
   "execution_count": 28,
   "metadata": {},
   "outputs": [
    {
     "data": {
      "text/plain": [
       "0.16317016317016317"
      ]
     },
     "execution_count": 28,
     "metadata": {},
     "output_type": "execute_result"
    }
   ],
   "source": [
    "knn_scaled_eval._score_tpr"
   ]
  },
  {
   "cell_type": "code",
   "execution_count": 29,
   "metadata": {},
   "outputs": [
    {
     "data": {
      "text/html": [
       "<div>\n",
       "<style scoped>\n",
       "    .dataframe tbody tr th:only-of-type {\n",
       "        vertical-align: middle;\n",
       "    }\n",
       "\n",
       "    .dataframe tbody tr th {\n",
       "        vertical-align: top;\n",
       "    }\n",
       "\n",
       "    .dataframe thead th {\n",
       "        text-align: right;\n",
       "    }\n",
       "</style>\n",
       "<table border=\"1\" class=\"dataframe\">\n",
       "  <thead>\n",
       "    <tr style=\"text-align: right;\">\n",
       "      <th></th>\n",
       "      <th>model name</th>\n",
       "      <th>tpr</th>\n",
       "      <th>roc_auc</th>\n",
       "    </tr>\n",
       "  </thead>\n",
       "  <tbody>\n",
       "    <tr>\n",
       "      <th>0</th>\n",
       "      <td>logreg</td>\n",
       "      <td>0.392467</td>\n",
       "      <td>0.827328</td>\n",
       "    </tr>\n",
       "    <tr>\n",
       "      <th>1</th>\n",
       "      <td>logreg_scaled</td>\n",
       "      <td>0.403386</td>\n",
       "      <td>0.835660</td>\n",
       "    </tr>\n",
       "    <tr>\n",
       "      <th>2</th>\n",
       "      <td>knn_scaled</td>\n",
       "      <td>0.163170</td>\n",
       "      <td>0.705033</td>\n",
       "    </tr>\n",
       "  </tbody>\n",
       "</table>\n",
       "</div>"
      ],
      "text/plain": [
       "      model name       tpr   roc_auc\n",
       "0         logreg  0.392467  0.827328\n",
       "1  logreg_scaled  0.403386  0.835660\n",
       "2     knn_scaled  0.163170  0.705033"
      ]
     },
     "execution_count": 29,
     "metadata": {},
     "output_type": "execute_result"
    }
   ],
   "source": [
    "score_df"
   ]
  },
  {
   "cell_type": "markdown",
   "metadata": {},
   "source": [
    "The results are underwhelming, but I was using default hyperparameters. Now for hyperparameter tuning. I initially tested more hyperparameters, including `weights`: ['uniform', 'distance'] and `p`: [1,2,3]. However, `weight=distance` and `p=3` were consistently outperformed by the others, so to conserve time and computing power, I have limited this grid search to only test the relevant metrics."
   ]
  },
  {
   "cell_type": "code",
   "execution_count": 30,
   "metadata": {
    "scrolled": true
   },
   "outputs": [
    {
     "data": {
      "text/plain": [
       "Pipeline(steps=[('scaler', StandardScaler()),\n",
       "                ('knn', KNeighborsClassifier(n_neighbors=7, p=1))])"
      ]
     },
     "execution_count": 30,
     "metadata": {},
     "output_type": "execute_result"
    }
   ],
   "source": [
    "knn_param_grid = {'knn__n_neighbors': [5,7,9], 'knn__p': [1, 2]}\n",
    "knn_gs = GridSearchCV(scale_pipe, knn_param_grid, cv=5, scoring=tpr_scorer)\n",
    "knn_gs.fit(X_train, y_train)\n",
    "knn_gs.best_estimator_"
   ]
  },
  {
   "cell_type": "code",
   "execution_count": 31,
   "metadata": {},
   "outputs": [
    {
     "data": {
      "text/html": [
       "<div>\n",
       "<style scoped>\n",
       "    .dataframe tbody tr th:only-of-type {\n",
       "        vertical-align: middle;\n",
       "    }\n",
       "\n",
       "    .dataframe tbody tr th {\n",
       "        vertical-align: top;\n",
       "    }\n",
       "\n",
       "    .dataframe thead th {\n",
       "        text-align: right;\n",
       "    }\n",
       "</style>\n",
       "<table border=\"1\" class=\"dataframe\">\n",
       "  <thead>\n",
       "    <tr style=\"text-align: right;\">\n",
       "      <th></th>\n",
       "      <th>mean_fit_time</th>\n",
       "      <th>std_fit_time</th>\n",
       "      <th>mean_score_time</th>\n",
       "      <th>std_score_time</th>\n",
       "      <th>param_knn__n_neighbors</th>\n",
       "      <th>param_knn__p</th>\n",
       "      <th>params</th>\n",
       "      <th>split0_test_score</th>\n",
       "      <th>split1_test_score</th>\n",
       "      <th>split2_test_score</th>\n",
       "      <th>split3_test_score</th>\n",
       "      <th>split4_test_score</th>\n",
       "      <th>mean_test_score</th>\n",
       "      <th>std_test_score</th>\n",
       "      <th>rank_test_score</th>\n",
       "    </tr>\n",
       "  </thead>\n",
       "  <tbody>\n",
       "    <tr>\n",
       "      <th>0</th>\n",
       "      <td>6.903436</td>\n",
       "      <td>0.147624</td>\n",
       "      <td>105.954075</td>\n",
       "      <td>2.511737</td>\n",
       "      <td>5</td>\n",
       "      <td>1</td>\n",
       "      <td>{'knn__n_neighbors': 5, 'knn__p': 1}</td>\n",
       "      <td>0.177192</td>\n",
       "      <td>0.156442</td>\n",
       "      <td>0.144172</td>\n",
       "      <td>0.162577</td>\n",
       "      <td>0.195706</td>\n",
       "      <td>0.167218</td>\n",
       "      <td>0.017775</td>\n",
       "      <td>5</td>\n",
       "    </tr>\n",
       "    <tr>\n",
       "      <th>1</th>\n",
       "      <td>7.104679</td>\n",
       "      <td>0.228971</td>\n",
       "      <td>107.006625</td>\n",
       "      <td>3.228734</td>\n",
       "      <td>5</td>\n",
       "      <td>2</td>\n",
       "      <td>{'knn__n_neighbors': 5, 'knn__p': 2}</td>\n",
       "      <td>0.187615</td>\n",
       "      <td>0.150920</td>\n",
       "      <td>0.112883</td>\n",
       "      <td>0.167485</td>\n",
       "      <td>0.196933</td>\n",
       "      <td>0.163167</td>\n",
       "      <td>0.029782</td>\n",
       "      <td>6</td>\n",
       "    </tr>\n",
       "    <tr>\n",
       "      <th>2</th>\n",
       "      <td>7.223848</td>\n",
       "      <td>0.339587</td>\n",
       "      <td>111.796507</td>\n",
       "      <td>6.521179</td>\n",
       "      <td>7</td>\n",
       "      <td>1</td>\n",
       "      <td>{'knn__n_neighbors': 7, 'knn__p': 1}</td>\n",
       "      <td>0.278970</td>\n",
       "      <td>0.259509</td>\n",
       "      <td>0.235583</td>\n",
       "      <td>0.263804</td>\n",
       "      <td>0.310429</td>\n",
       "      <td>0.269659</td>\n",
       "      <td>0.024688</td>\n",
       "      <td>1</td>\n",
       "    </tr>\n",
       "    <tr>\n",
       "      <th>3</th>\n",
       "      <td>7.621810</td>\n",
       "      <td>0.230755</td>\n",
       "      <td>108.051169</td>\n",
       "      <td>1.997785</td>\n",
       "      <td>7</td>\n",
       "      <td>2</td>\n",
       "      <td>{'knn__n_neighbors': 7, 'knn__p': 2}</td>\n",
       "      <td>0.299203</td>\n",
       "      <td>0.250920</td>\n",
       "      <td>0.201840</td>\n",
       "      <td>0.268098</td>\n",
       "      <td>0.317178</td>\n",
       "      <td>0.267448</td>\n",
       "      <td>0.040148</td>\n",
       "      <td>2</td>\n",
       "    </tr>\n",
       "    <tr>\n",
       "      <th>4</th>\n",
       "      <td>6.785360</td>\n",
       "      <td>0.370928</td>\n",
       "      <td>104.117486</td>\n",
       "      <td>0.789851</td>\n",
       "      <td>9</td>\n",
       "      <td>1</td>\n",
       "      <td>{'knn__n_neighbors': 9, 'knn__p': 1}</td>\n",
       "      <td>0.239730</td>\n",
       "      <td>0.227607</td>\n",
       "      <td>0.192025</td>\n",
       "      <td>0.237423</td>\n",
       "      <td>0.272393</td>\n",
       "      <td>0.233836</td>\n",
       "      <td>0.025773</td>\n",
       "      <td>3</td>\n",
       "    </tr>\n",
       "    <tr>\n",
       "      <th>5</th>\n",
       "      <td>6.634470</td>\n",
       "      <td>0.173071</td>\n",
       "      <td>102.968926</td>\n",
       "      <td>2.078042</td>\n",
       "      <td>9</td>\n",
       "      <td>2</td>\n",
       "      <td>{'knn__n_neighbors': 9, 'knn__p': 2}</td>\n",
       "      <td>0.266708</td>\n",
       "      <td>0.214724</td>\n",
       "      <td>0.170552</td>\n",
       "      <td>0.231902</td>\n",
       "      <td>0.277301</td>\n",
       "      <td>0.232237</td>\n",
       "      <td>0.038290</td>\n",
       "      <td>4</td>\n",
       "    </tr>\n",
       "  </tbody>\n",
       "</table>\n",
       "</div>"
      ],
      "text/plain": [
       "   mean_fit_time  std_fit_time  mean_score_time  std_score_time  \\\n",
       "0       6.903436      0.147624       105.954075        2.511737   \n",
       "1       7.104679      0.228971       107.006625        3.228734   \n",
       "2       7.223848      0.339587       111.796507        6.521179   \n",
       "3       7.621810      0.230755       108.051169        1.997785   \n",
       "4       6.785360      0.370928       104.117486        0.789851   \n",
       "5       6.634470      0.173071       102.968926        2.078042   \n",
       "\n",
       "  param_knn__n_neighbors param_knn__p                                params  \\\n",
       "0                      5            1  {'knn__n_neighbors': 5, 'knn__p': 1}   \n",
       "1                      5            2  {'knn__n_neighbors': 5, 'knn__p': 2}   \n",
       "2                      7            1  {'knn__n_neighbors': 7, 'knn__p': 1}   \n",
       "3                      7            2  {'knn__n_neighbors': 7, 'knn__p': 2}   \n",
       "4                      9            1  {'knn__n_neighbors': 9, 'knn__p': 1}   \n",
       "5                      9            2  {'knn__n_neighbors': 9, 'knn__p': 2}   \n",
       "\n",
       "   split0_test_score  split1_test_score  split2_test_score  split3_test_score  \\\n",
       "0           0.177192           0.156442           0.144172           0.162577   \n",
       "1           0.187615           0.150920           0.112883           0.167485   \n",
       "2           0.278970           0.259509           0.235583           0.263804   \n",
       "3           0.299203           0.250920           0.201840           0.268098   \n",
       "4           0.239730           0.227607           0.192025           0.237423   \n",
       "5           0.266708           0.214724           0.170552           0.231902   \n",
       "\n",
       "   split4_test_score  mean_test_score  std_test_score  rank_test_score  \n",
       "0           0.195706         0.167218        0.017775                5  \n",
       "1           0.196933         0.163167        0.029782                6  \n",
       "2           0.310429         0.269659        0.024688                1  \n",
       "3           0.317178         0.267448        0.040148                2  \n",
       "4           0.272393         0.233836        0.025773                3  \n",
       "5           0.277301         0.232237        0.038290                4  "
      ]
     },
     "execution_count": 31,
     "metadata": {},
     "output_type": "execute_result"
    }
   ],
   "source": [
    "pd.DataFrame(knn_gs.cv_results_)"
   ]
  },
  {
   "cell_type": "markdown",
   "metadata": {},
   "source": [
    "The best performing model hyperparameters are `n_neighbors=7` and `p=1`. I will use these for the final knn model, `knn_best`. "
   ]
  },
  {
   "cell_type": "code",
   "execution_count": 32,
   "metadata": {},
   "outputs": [],
   "source": [
    "knn_best = KNeighborsClassifier(n_neighbors=7, p=1)\n",
    "\n",
    "knn_best_pipe = Pipeline([('scaler', StandardScaler()),\n",
    "                       ('knn', knn_best)\n",
    "                    ])"
   ]
  },
  {
   "cell_type": "markdown",
   "metadata": {},
   "source": [
    "### Random Forests (RF)\n",
    "\n",
    "The final modeling technique I will use is Random Forests. This is an ensemble method that randomly creates many decision trees and aggregates them to determine the classification of each datapoint. The results are somewhat more opaque than the other models, but may be able to outperform them."
   ]
  },
  {
   "cell_type": "code",
   "execution_count": 33,
   "metadata": {},
   "outputs": [],
   "source": [
    "rf = RandomForestClassifier()\n",
    "rf_eval = ModelEval(rf, 'rf', score_df)\n",
    "rf_eval.cv_proba(X_train, y_train, method='predict_proba', cv=5)"
   ]
  },
  {
   "cell_type": "code",
   "execution_count": 34,
   "metadata": {},
   "outputs": [
    {
     "data": {
      "text/plain": [
       "0.35234940498098394"
      ]
     },
     "execution_count": 34,
     "metadata": {},
     "output_type": "execute_result"
    }
   ],
   "source": [
    "rf_eval._score_tpr"
   ]
  },
  {
   "cell_type": "code",
   "execution_count": 35,
   "metadata": {},
   "outputs": [
    {
     "data": {
      "text/html": [
       "<div>\n",
       "<style scoped>\n",
       "    .dataframe tbody tr th:only-of-type {\n",
       "        vertical-align: middle;\n",
       "    }\n",
       "\n",
       "    .dataframe tbody tr th {\n",
       "        vertical-align: top;\n",
       "    }\n",
       "\n",
       "    .dataframe thead th {\n",
       "        text-align: right;\n",
       "    }\n",
       "</style>\n",
       "<table border=\"1\" class=\"dataframe\">\n",
       "  <thead>\n",
       "    <tr style=\"text-align: right;\">\n",
       "      <th></th>\n",
       "      <th>model name</th>\n",
       "      <th>tpr</th>\n",
       "      <th>roc_auc</th>\n",
       "    </tr>\n",
       "  </thead>\n",
       "  <tbody>\n",
       "    <tr>\n",
       "      <th>0</th>\n",
       "      <td>logreg</td>\n",
       "      <td>0.392467</td>\n",
       "      <td>0.827328</td>\n",
       "    </tr>\n",
       "    <tr>\n",
       "      <th>1</th>\n",
       "      <td>logreg_scaled</td>\n",
       "      <td>0.403386</td>\n",
       "      <td>0.835660</td>\n",
       "    </tr>\n",
       "    <tr>\n",
       "      <th>2</th>\n",
       "      <td>knn_scaled</td>\n",
       "      <td>0.163170</td>\n",
       "      <td>0.705033</td>\n",
       "    </tr>\n",
       "    <tr>\n",
       "      <th>3</th>\n",
       "      <td>rf</td>\n",
       "      <td>0.352349</td>\n",
       "      <td>0.822451</td>\n",
       "    </tr>\n",
       "  </tbody>\n",
       "</table>\n",
       "</div>"
      ],
      "text/plain": [
       "      model name       tpr   roc_auc\n",
       "0         logreg  0.392467  0.827328\n",
       "1  logreg_scaled  0.403386  0.835660\n",
       "2     knn_scaled  0.163170  0.705033\n",
       "3             rf  0.352349  0.822451"
      ]
     },
     "execution_count": 35,
     "metadata": {},
     "output_type": "execute_result"
    }
   ],
   "source": [
    "score_df"
   ]
  },
  {
   "cell_type": "markdown",
   "metadata": {},
   "source": [
    "Again, the results are far from impressive, but I will now tune hyperparameters in an attempt to improve upon the model."
   ]
  },
  {
   "cell_type": "code",
   "execution_count": 36,
   "metadata": {},
   "outputs": [
    {
     "data": {
      "text/plain": [
       "RandomForestClassifier(max_depth=10, max_features='sqrt')"
      ]
     },
     "execution_count": 36,
     "metadata": {},
     "output_type": "execute_result"
    }
   ],
   "source": [
    "rf_param_grid = {'criterion': ['gini', 'entropy'],\n",
    "                 'max_depth': [None, 10, 20],\n",
    "                 'max_features': ['sqrt', None]}\n",
    "rf_gs = GridSearchCV(rf, rf_param_grid, cv=5, scoring=tpr_scorer)\n",
    "rf_gs.fit(X_train, y_train)\n",
    "rf_gs.best_estimator_"
   ]
  },
  {
   "cell_type": "code",
   "execution_count": 37,
   "metadata": {},
   "outputs": [
    {
     "data": {
      "text/html": [
       "<div>\n",
       "<style scoped>\n",
       "    .dataframe tbody tr th:only-of-type {\n",
       "        vertical-align: middle;\n",
       "    }\n",
       "\n",
       "    .dataframe tbody tr th {\n",
       "        vertical-align: top;\n",
       "    }\n",
       "\n",
       "    .dataframe thead th {\n",
       "        text-align: right;\n",
       "    }\n",
       "</style>\n",
       "<table border=\"1\" class=\"dataframe\">\n",
       "  <thead>\n",
       "    <tr style=\"text-align: right;\">\n",
       "      <th></th>\n",
       "      <th>mean_fit_time</th>\n",
       "      <th>std_fit_time</th>\n",
       "      <th>mean_score_time</th>\n",
       "      <th>std_score_time</th>\n",
       "      <th>param_criterion</th>\n",
       "      <th>param_max_depth</th>\n",
       "      <th>param_max_features</th>\n",
       "      <th>params</th>\n",
       "      <th>split0_test_score</th>\n",
       "      <th>split1_test_score</th>\n",
       "      <th>split2_test_score</th>\n",
       "      <th>split3_test_score</th>\n",
       "      <th>split4_test_score</th>\n",
       "      <th>mean_test_score</th>\n",
       "      <th>std_test_score</th>\n",
       "      <th>rank_test_score</th>\n",
       "    </tr>\n",
       "  </thead>\n",
       "  <tbody>\n",
       "    <tr>\n",
       "      <th>0</th>\n",
       "      <td>14.956322</td>\n",
       "      <td>0.109057</td>\n",
       "      <td>0.295961</td>\n",
       "      <td>0.009356</td>\n",
       "      <td>gini</td>\n",
       "      <td>None</td>\n",
       "      <td>sqrt</td>\n",
       "      <td>{'criterion': 'gini', 'max_depth': None, 'max_...</td>\n",
       "      <td>0.406499</td>\n",
       "      <td>0.339877</td>\n",
       "      <td>0.318405</td>\n",
       "      <td>0.295092</td>\n",
       "      <td>0.352147</td>\n",
       "      <td>0.342404</td>\n",
       "      <td>0.037480</td>\n",
       "      <td>4</td>\n",
       "    </tr>\n",
       "    <tr>\n",
       "      <th>1</th>\n",
       "      <td>93.188834</td>\n",
       "      <td>0.526710</td>\n",
       "      <td>0.295454</td>\n",
       "      <td>0.007418</td>\n",
       "      <td>gini</td>\n",
       "      <td>None</td>\n",
       "      <td>None</td>\n",
       "      <td>{'criterion': 'gini', 'max_depth': None, 'max_...</td>\n",
       "      <td>0.210300</td>\n",
       "      <td>0.323926</td>\n",
       "      <td>0.306748</td>\n",
       "      <td>0.279141</td>\n",
       "      <td>0.212270</td>\n",
       "      <td>0.266477</td>\n",
       "      <td>0.047280</td>\n",
       "      <td>10</td>\n",
       "    </tr>\n",
       "    <tr>\n",
       "      <th>2</th>\n",
       "      <td>9.849318</td>\n",
       "      <td>0.137767</td>\n",
       "      <td>0.182557</td>\n",
       "      <td>0.006241</td>\n",
       "      <td>gini</td>\n",
       "      <td>10</td>\n",
       "      <td>sqrt</td>\n",
       "      <td>{'criterion': 'gini', 'max_depth': 10, 'max_fe...</td>\n",
       "      <td>0.514408</td>\n",
       "      <td>0.368098</td>\n",
       "      <td>0.327607</td>\n",
       "      <td>0.303681</td>\n",
       "      <td>0.467485</td>\n",
       "      <td>0.396256</td>\n",
       "      <td>0.081375</td>\n",
       "      <td>1</td>\n",
       "    </tr>\n",
       "    <tr>\n",
       "      <th>3</th>\n",
       "      <td>53.523838</td>\n",
       "      <td>0.528818</td>\n",
       "      <td>0.161378</td>\n",
       "      <td>0.006554</td>\n",
       "      <td>gini</td>\n",
       "      <td>10</td>\n",
       "      <td>None</td>\n",
       "      <td>{'criterion': 'gini', 'max_depth': 10, 'max_fe...</td>\n",
       "      <td>0.307174</td>\n",
       "      <td>0.363190</td>\n",
       "      <td>0.326380</td>\n",
       "      <td>0.300613</td>\n",
       "      <td>0.250307</td>\n",
       "      <td>0.309533</td>\n",
       "      <td>0.036758</td>\n",
       "      <td>7</td>\n",
       "    </tr>\n",
       "    <tr>\n",
       "      <th>4</th>\n",
       "      <td>14.598726</td>\n",
       "      <td>0.176299</td>\n",
       "      <td>0.279493</td>\n",
       "      <td>0.012487</td>\n",
       "      <td>gini</td>\n",
       "      <td>20</td>\n",
       "      <td>sqrt</td>\n",
       "      <td>{'criterion': 'gini', 'max_depth': 20, 'max_fe...</td>\n",
       "      <td>0.400368</td>\n",
       "      <td>0.354601</td>\n",
       "      <td>0.334356</td>\n",
       "      <td>0.302454</td>\n",
       "      <td>0.385276</td>\n",
       "      <td>0.355411</td>\n",
       "      <td>0.035104</td>\n",
       "      <td>3</td>\n",
       "    </tr>\n",
       "    <tr>\n",
       "      <th>5</th>\n",
       "      <td>86.843734</td>\n",
       "      <td>0.459797</td>\n",
       "      <td>0.277095</td>\n",
       "      <td>0.010169</td>\n",
       "      <td>gini</td>\n",
       "      <td>20</td>\n",
       "      <td>None</td>\n",
       "      <td>{'criterion': 'gini', 'max_depth': 20, 'max_fe...</td>\n",
       "      <td>0.227468</td>\n",
       "      <td>0.352147</td>\n",
       "      <td>0.322699</td>\n",
       "      <td>0.301227</td>\n",
       "      <td>0.234969</td>\n",
       "      <td>0.287702</td>\n",
       "      <td>0.048928</td>\n",
       "      <td>9</td>\n",
       "    </tr>\n",
       "    <tr>\n",
       "      <th>6</th>\n",
       "      <td>18.071952</td>\n",
       "      <td>0.100977</td>\n",
       "      <td>0.276030</td>\n",
       "      <td>0.009088</td>\n",
       "      <td>entropy</td>\n",
       "      <td>None</td>\n",
       "      <td>sqrt</td>\n",
       "      <td>{'criterion': 'entropy', 'max_depth': None, 'm...</td>\n",
       "      <td>0.412017</td>\n",
       "      <td>0.328834</td>\n",
       "      <td>0.309816</td>\n",
       "      <td>0.252147</td>\n",
       "      <td>0.365031</td>\n",
       "      <td>0.333569</td>\n",
       "      <td>0.053591</td>\n",
       "      <td>6</td>\n",
       "    </tr>\n",
       "    <tr>\n",
       "      <th>7</th>\n",
       "      <td>92.799331</td>\n",
       "      <td>1.268903</td>\n",
       "      <td>0.254485</td>\n",
       "      <td>0.017144</td>\n",
       "      <td>entropy</td>\n",
       "      <td>None</td>\n",
       "      <td>None</td>\n",
       "      <td>{'criterion': 'entropy', 'max_depth': None, 'm...</td>\n",
       "      <td>0.234825</td>\n",
       "      <td>0.332515</td>\n",
       "      <td>0.305521</td>\n",
       "      <td>0.218405</td>\n",
       "      <td>0.182209</td>\n",
       "      <td>0.254695</td>\n",
       "      <td>0.055867</td>\n",
       "      <td>12</td>\n",
       "    </tr>\n",
       "    <tr>\n",
       "      <th>8</th>\n",
       "      <td>13.029615</td>\n",
       "      <td>0.283120</td>\n",
       "      <td>0.192486</td>\n",
       "      <td>0.006967</td>\n",
       "      <td>entropy</td>\n",
       "      <td>10</td>\n",
       "      <td>sqrt</td>\n",
       "      <td>{'criterion': 'entropy', 'max_depth': 10, 'max...</td>\n",
       "      <td>0.510116</td>\n",
       "      <td>0.373006</td>\n",
       "      <td>0.328221</td>\n",
       "      <td>0.263190</td>\n",
       "      <td>0.435583</td>\n",
       "      <td>0.382023</td>\n",
       "      <td>0.085292</td>\n",
       "      <td>2</td>\n",
       "    </tr>\n",
       "    <tr>\n",
       "      <th>9</th>\n",
       "      <td>70.632977</td>\n",
       "      <td>1.287560</td>\n",
       "      <td>0.185332</td>\n",
       "      <td>0.007026</td>\n",
       "      <td>entropy</td>\n",
       "      <td>10</td>\n",
       "      <td>None</td>\n",
       "      <td>{'criterion': 'entropy', 'max_depth': 10, 'max...</td>\n",
       "      <td>0.321888</td>\n",
       "      <td>0.358896</td>\n",
       "      <td>0.316564</td>\n",
       "      <td>0.225767</td>\n",
       "      <td>0.224540</td>\n",
       "      <td>0.289531</td>\n",
       "      <td>0.054551</td>\n",
       "      <td>8</td>\n",
       "    </tr>\n",
       "    <tr>\n",
       "      <th>10</th>\n",
       "      <td>17.460699</td>\n",
       "      <td>0.112474</td>\n",
       "      <td>0.268898</td>\n",
       "      <td>0.006156</td>\n",
       "      <td>entropy</td>\n",
       "      <td>20</td>\n",
       "      <td>sqrt</td>\n",
       "      <td>{'criterion': 'entropy', 'max_depth': 20, 'max...</td>\n",
       "      <td>0.405886</td>\n",
       "      <td>0.333129</td>\n",
       "      <td>0.307362</td>\n",
       "      <td>0.273006</td>\n",
       "      <td>0.374233</td>\n",
       "      <td>0.338723</td>\n",
       "      <td>0.047128</td>\n",
       "      <td>5</td>\n",
       "    </tr>\n",
       "    <tr>\n",
       "      <th>11</th>\n",
       "      <td>93.370737</td>\n",
       "      <td>1.295562</td>\n",
       "      <td>0.250932</td>\n",
       "      <td>0.006502</td>\n",
       "      <td>entropy</td>\n",
       "      <td>20</td>\n",
       "      <td>None</td>\n",
       "      <td>{'criterion': 'entropy', 'max_depth': 20, 'max...</td>\n",
       "      <td>0.218884</td>\n",
       "      <td>0.334356</td>\n",
       "      <td>0.299387</td>\n",
       "      <td>0.240491</td>\n",
       "      <td>0.203681</td>\n",
       "      <td>0.259360</td>\n",
       "      <td>0.049641</td>\n",
       "      <td>11</td>\n",
       "    </tr>\n",
       "  </tbody>\n",
       "</table>\n",
       "</div>"
      ],
      "text/plain": [
       "    mean_fit_time  std_fit_time  mean_score_time  std_score_time  \\\n",
       "0       14.956322      0.109057         0.295961        0.009356   \n",
       "1       93.188834      0.526710         0.295454        0.007418   \n",
       "2        9.849318      0.137767         0.182557        0.006241   \n",
       "3       53.523838      0.528818         0.161378        0.006554   \n",
       "4       14.598726      0.176299         0.279493        0.012487   \n",
       "5       86.843734      0.459797         0.277095        0.010169   \n",
       "6       18.071952      0.100977         0.276030        0.009088   \n",
       "7       92.799331      1.268903         0.254485        0.017144   \n",
       "8       13.029615      0.283120         0.192486        0.006967   \n",
       "9       70.632977      1.287560         0.185332        0.007026   \n",
       "10      17.460699      0.112474         0.268898        0.006156   \n",
       "11      93.370737      1.295562         0.250932        0.006502   \n",
       "\n",
       "   param_criterion param_max_depth param_max_features  \\\n",
       "0             gini            None               sqrt   \n",
       "1             gini            None               None   \n",
       "2             gini              10               sqrt   \n",
       "3             gini              10               None   \n",
       "4             gini              20               sqrt   \n",
       "5             gini              20               None   \n",
       "6          entropy            None               sqrt   \n",
       "7          entropy            None               None   \n",
       "8          entropy              10               sqrt   \n",
       "9          entropy              10               None   \n",
       "10         entropy              20               sqrt   \n",
       "11         entropy              20               None   \n",
       "\n",
       "                                               params  split0_test_score  \\\n",
       "0   {'criterion': 'gini', 'max_depth': None, 'max_...           0.406499   \n",
       "1   {'criterion': 'gini', 'max_depth': None, 'max_...           0.210300   \n",
       "2   {'criterion': 'gini', 'max_depth': 10, 'max_fe...           0.514408   \n",
       "3   {'criterion': 'gini', 'max_depth': 10, 'max_fe...           0.307174   \n",
       "4   {'criterion': 'gini', 'max_depth': 20, 'max_fe...           0.400368   \n",
       "5   {'criterion': 'gini', 'max_depth': 20, 'max_fe...           0.227468   \n",
       "6   {'criterion': 'entropy', 'max_depth': None, 'm...           0.412017   \n",
       "7   {'criterion': 'entropy', 'max_depth': None, 'm...           0.234825   \n",
       "8   {'criterion': 'entropy', 'max_depth': 10, 'max...           0.510116   \n",
       "9   {'criterion': 'entropy', 'max_depth': 10, 'max...           0.321888   \n",
       "10  {'criterion': 'entropy', 'max_depth': 20, 'max...           0.405886   \n",
       "11  {'criterion': 'entropy', 'max_depth': 20, 'max...           0.218884   \n",
       "\n",
       "    split1_test_score  split2_test_score  split3_test_score  \\\n",
       "0            0.339877           0.318405           0.295092   \n",
       "1            0.323926           0.306748           0.279141   \n",
       "2            0.368098           0.327607           0.303681   \n",
       "3            0.363190           0.326380           0.300613   \n",
       "4            0.354601           0.334356           0.302454   \n",
       "5            0.352147           0.322699           0.301227   \n",
       "6            0.328834           0.309816           0.252147   \n",
       "7            0.332515           0.305521           0.218405   \n",
       "8            0.373006           0.328221           0.263190   \n",
       "9            0.358896           0.316564           0.225767   \n",
       "10           0.333129           0.307362           0.273006   \n",
       "11           0.334356           0.299387           0.240491   \n",
       "\n",
       "    split4_test_score  mean_test_score  std_test_score  rank_test_score  \n",
       "0            0.352147         0.342404        0.037480                4  \n",
       "1            0.212270         0.266477        0.047280               10  \n",
       "2            0.467485         0.396256        0.081375                1  \n",
       "3            0.250307         0.309533        0.036758                7  \n",
       "4            0.385276         0.355411        0.035104                3  \n",
       "5            0.234969         0.287702        0.048928                9  \n",
       "6            0.365031         0.333569        0.053591                6  \n",
       "7            0.182209         0.254695        0.055867               12  \n",
       "8            0.435583         0.382023        0.085292                2  \n",
       "9            0.224540         0.289531        0.054551                8  \n",
       "10           0.374233         0.338723        0.047128                5  \n",
       "11           0.203681         0.259360        0.049641               11  "
      ]
     },
     "execution_count": 37,
     "metadata": {},
     "output_type": "execute_result"
    }
   ],
   "source": [
    "pd.DataFrame(rf_gs.cv_results_)"
   ]
  },
  {
   "cell_type": "markdown",
   "metadata": {},
   "source": [
    "`criterion='gini'` and `max_features='sqrt'` consistently outperform `criterion='entropy'`, and `max_features='sqrt'`, so for the next gridsearch I will focus on `max_depth`."
   ]
  },
  {
   "cell_type": "code",
   "execution_count": 38,
   "metadata": {},
   "outputs": [
    {
     "data": {
      "text/plain": [
       "RandomForestClassifier(max_depth=6, max_features='sqrt')"
      ]
     },
     "execution_count": 38,
     "metadata": {},
     "output_type": "execute_result"
    }
   ],
   "source": [
    "rf_param_grid = {'criterion': ['gini'],\n",
    "                 'max_depth': [4, 5, 6, 7, 10],\n",
    "                 'max_features': ['sqrt']}\n",
    "rf_gs = GridSearchCV(rf, rf_param_grid, cv=5, scoring=tpr_scorer)\n",
    "rf_gs.fit(X_train, y_train)\n",
    "rf_gs.best_estimator_"
   ]
  },
  {
   "cell_type": "code",
   "execution_count": 39,
   "metadata": {},
   "outputs": [
    {
     "data": {
      "text/html": [
       "<div>\n",
       "<style scoped>\n",
       "    .dataframe tbody tr th:only-of-type {\n",
       "        vertical-align: middle;\n",
       "    }\n",
       "\n",
       "    .dataframe tbody tr th {\n",
       "        vertical-align: top;\n",
       "    }\n",
       "\n",
       "    .dataframe thead th {\n",
       "        text-align: right;\n",
       "    }\n",
       "</style>\n",
       "<table border=\"1\" class=\"dataframe\">\n",
       "  <thead>\n",
       "    <tr style=\"text-align: right;\">\n",
       "      <th></th>\n",
       "      <th>mean_fit_time</th>\n",
       "      <th>std_fit_time</th>\n",
       "      <th>mean_score_time</th>\n",
       "      <th>std_score_time</th>\n",
       "      <th>param_criterion</th>\n",
       "      <th>param_max_depth</th>\n",
       "      <th>param_max_features</th>\n",
       "      <th>params</th>\n",
       "      <th>split0_test_score</th>\n",
       "      <th>split1_test_score</th>\n",
       "      <th>split2_test_score</th>\n",
       "      <th>split3_test_score</th>\n",
       "      <th>split4_test_score</th>\n",
       "      <th>mean_test_score</th>\n",
       "      <th>std_test_score</th>\n",
       "      <th>rank_test_score</th>\n",
       "    </tr>\n",
       "  </thead>\n",
       "  <tbody>\n",
       "    <tr>\n",
       "      <th>0</th>\n",
       "      <td>4.496659</td>\n",
       "      <td>0.103354</td>\n",
       "      <td>0.100407</td>\n",
       "      <td>0.010742</td>\n",
       "      <td>gini</td>\n",
       "      <td>4</td>\n",
       "      <td>sqrt</td>\n",
       "      <td>{'criterion': 'gini', 'max_depth': 4, 'max_fea...</td>\n",
       "      <td>0.511956</td>\n",
       "      <td>0.352761</td>\n",
       "      <td>0.346012</td>\n",
       "      <td>0.356442</td>\n",
       "      <td>0.497546</td>\n",
       "      <td>0.412943</td>\n",
       "      <td>0.075173</td>\n",
       "      <td>4</td>\n",
       "    </tr>\n",
       "    <tr>\n",
       "      <th>1</th>\n",
       "      <td>5.653333</td>\n",
       "      <td>0.175627</td>\n",
       "      <td>0.103681</td>\n",
       "      <td>0.006740</td>\n",
       "      <td>gini</td>\n",
       "      <td>5</td>\n",
       "      <td>sqrt</td>\n",
       "      <td>{'criterion': 'gini', 'max_depth': 5, 'max_fea...</td>\n",
       "      <td>0.514408</td>\n",
       "      <td>0.357669</td>\n",
       "      <td>0.345399</td>\n",
       "      <td>0.355828</td>\n",
       "      <td>0.493252</td>\n",
       "      <td>0.413311</td>\n",
       "      <td>0.074328</td>\n",
       "      <td>3</td>\n",
       "    </tr>\n",
       "    <tr>\n",
       "      <th>2</th>\n",
       "      <td>6.714142</td>\n",
       "      <td>0.463750</td>\n",
       "      <td>0.121563</td>\n",
       "      <td>0.005804</td>\n",
       "      <td>gini</td>\n",
       "      <td>6</td>\n",
       "      <td>sqrt</td>\n",
       "      <td>{'criterion': 'gini', 'max_depth': 6, 'max_fea...</td>\n",
       "      <td>0.533415</td>\n",
       "      <td>0.366871</td>\n",
       "      <td>0.347853</td>\n",
       "      <td>0.361963</td>\n",
       "      <td>0.525153</td>\n",
       "      <td>0.427051</td>\n",
       "      <td>0.083747</td>\n",
       "      <td>1</td>\n",
       "    </tr>\n",
       "    <tr>\n",
       "      <th>3</th>\n",
       "      <td>7.247933</td>\n",
       "      <td>0.084993</td>\n",
       "      <td>0.131138</td>\n",
       "      <td>0.007719</td>\n",
       "      <td>gini</td>\n",
       "      <td>7</td>\n",
       "      <td>sqrt</td>\n",
       "      <td>{'criterion': 'gini', 'max_depth': 7, 'max_fea...</td>\n",
       "      <td>0.521153</td>\n",
       "      <td>0.377914</td>\n",
       "      <td>0.350920</td>\n",
       "      <td>0.328221</td>\n",
       "      <td>0.530061</td>\n",
       "      <td>0.421654</td>\n",
       "      <td>0.086369</td>\n",
       "      <td>2</td>\n",
       "    </tr>\n",
       "    <tr>\n",
       "      <th>4</th>\n",
       "      <td>10.017783</td>\n",
       "      <td>0.262504</td>\n",
       "      <td>0.183506</td>\n",
       "      <td>0.009992</td>\n",
       "      <td>gini</td>\n",
       "      <td>10</td>\n",
       "      <td>sqrt</td>\n",
       "      <td>{'criterion': 'gini', 'max_depth': 10, 'max_fe...</td>\n",
       "      <td>0.500307</td>\n",
       "      <td>0.368712</td>\n",
       "      <td>0.342331</td>\n",
       "      <td>0.336196</td>\n",
       "      <td>0.450920</td>\n",
       "      <td>0.399693</td>\n",
       "      <td>0.064853</td>\n",
       "      <td>5</td>\n",
       "    </tr>\n",
       "  </tbody>\n",
       "</table>\n",
       "</div>"
      ],
      "text/plain": [
       "   mean_fit_time  std_fit_time  mean_score_time  std_score_time  \\\n",
       "0       4.496659      0.103354         0.100407        0.010742   \n",
       "1       5.653333      0.175627         0.103681        0.006740   \n",
       "2       6.714142      0.463750         0.121563        0.005804   \n",
       "3       7.247933      0.084993         0.131138        0.007719   \n",
       "4      10.017783      0.262504         0.183506        0.009992   \n",
       "\n",
       "  param_criterion param_max_depth param_max_features  \\\n",
       "0            gini               4               sqrt   \n",
       "1            gini               5               sqrt   \n",
       "2            gini               6               sqrt   \n",
       "3            gini               7               sqrt   \n",
       "4            gini              10               sqrt   \n",
       "\n",
       "                                              params  split0_test_score  \\\n",
       "0  {'criterion': 'gini', 'max_depth': 4, 'max_fea...           0.511956   \n",
       "1  {'criterion': 'gini', 'max_depth': 5, 'max_fea...           0.514408   \n",
       "2  {'criterion': 'gini', 'max_depth': 6, 'max_fea...           0.533415   \n",
       "3  {'criterion': 'gini', 'max_depth': 7, 'max_fea...           0.521153   \n",
       "4  {'criterion': 'gini', 'max_depth': 10, 'max_fe...           0.500307   \n",
       "\n",
       "   split1_test_score  split2_test_score  split3_test_score  split4_test_score  \\\n",
       "0           0.352761           0.346012           0.356442           0.497546   \n",
       "1           0.357669           0.345399           0.355828           0.493252   \n",
       "2           0.366871           0.347853           0.361963           0.525153   \n",
       "3           0.377914           0.350920           0.328221           0.530061   \n",
       "4           0.368712           0.342331           0.336196           0.450920   \n",
       "\n",
       "   mean_test_score  std_test_score  rank_test_score  \n",
       "0         0.412943        0.075173                4  \n",
       "1         0.413311        0.074328                3  \n",
       "2         0.427051        0.083747                1  \n",
       "3         0.421654        0.086369                2  \n",
       "4         0.399693        0.064853                5  "
      ]
     },
     "execution_count": 39,
     "metadata": {},
     "output_type": "execute_result"
    }
   ],
   "source": [
    "pd.DataFrame(rf_gs.cv_results_)"
   ]
  },
  {
   "cell_type": "code",
   "execution_count": 40,
   "metadata": {},
   "outputs": [],
   "source": [
    "rf_best = RandomForestClassifier(criterion='gini', max_depth=5, max_features='sqrt')"
   ]
  },
  {
   "cell_type": "code",
   "execution_count": null,
   "metadata": {},
   "outputs": [],
   "source": []
  },
  {
   "cell_type": "markdown",
   "metadata": {},
   "source": [
    "## Model Evaluation"
   ]
  },
  {
   "cell_type": "code",
   "execution_count": 41,
   "metadata": {},
   "outputs": [],
   "source": [
    "lr_scaled_eval.test_proba(X_train, y_train, X_test, y_test, method='decision_function')"
   ]
  },
  {
   "cell_type": "code",
   "execution_count": 42,
   "metadata": {},
   "outputs": [
    {
     "data": {
      "image/png": "[encoded data removed]",
      "text/plain": [
       "<Figure size 720x576 with 1 Axes>"
      ]
     },
     "metadata": {},
     "output_type": "display_data"
    }
   ],
   "source": [
    "lr_scaled_eval.plot_roc(test_set=True)"
   ]
  },
  {
   "cell_type": "code",
   "execution_count": null,
   "metadata": {},
   "outputs": [],
   "source": []
  },
  {
   "cell_type": "code",
   "execution_count": 43,
   "metadata": {},
   "outputs": [],
   "source": [
    "knn_best_eval = ModelEval(knn_best_pipe, 'best_knn', score_df)\n",
    "knn_best_eval.test_proba(X_train, y_train, X_test, y_test, method='predict_proba')"
   ]
  },
  {
   "cell_type": "code",
   "execution_count": 44,
   "metadata": {},
   "outputs": [
    {
     "data": {
      "image/png": "[encoded data removed]",
      "text/plain": [
       "<Figure size 720x576 with 1 Axes>"
      ]
     },
     "metadata": {},
     "output_type": "display_data"
    }
   ],
   "source": [
    "knn_best_eval.plot_roc(test_set=True)"
   ]
  },
  {
   "cell_type": "code",
   "execution_count": null,
   "metadata": {},
   "outputs": [],
   "source": []
  },
  {
   "cell_type": "code",
   "execution_count": 45,
   "metadata": {},
   "outputs": [],
   "source": [
    "rf_best_eval = ModelEval(rf_best, 'best rf', score_df)\n",
    "rf_best_eval.test_proba(X_train, y_train, X_test, y_test, method='predict_proba')"
   ]
  },
  {
   "cell_type": "code",
   "execution_count": 46,
   "metadata": {},
   "outputs": [
    {
     "data": {
      "image/png": "[encoded data removed]",
      "text/plain": [
       "<Figure size 720x576 with 1 Axes>"
      ]
     },
     "metadata": {},
     "output_type": "display_data"
    }
   ],
   "source": [
    "rf_best_eval.plot_roc(test_set=True)"
   ]
  },
  {
   "cell_type": "code",
   "execution_count": null,
   "metadata": {},
   "outputs": [],
   "source": []
  },
  {
   "cell_type": "markdown",
   "metadata": {},
   "source": [
    "### Aequitas Bias and Fairness Metrics"
   ]
  },
  {
   "cell_type": "code",
   "execution_count": null,
   "metadata": {
    "scrolled": true
   },
   "outputs": [],
   "source": [
    "# !pip install aequitas"
   ]
  },
  {
   "cell_type": "code",
   "execution_count": null,
   "metadata": {},
   "outputs": [],
   "source": [
    "from aequitas.preprocessing import preprocess_input_df\n",
    "from aequitas.group import Group\n",
    "from aequitas.bias import Bias\n",
    "from aequitas.fairness import Fairness\n",
    "from aequitas.plotting import Plot"
   ]
  },
  {
   "cell_type": "code",
   "execution_count": null,
   "metadata": {
    "scrolled": false
   },
   "outputs": [],
   "source": [
    "bias_groups = ['income', 'customer_age', 'employment_status']\n",
    "logreg_preds_df = pd.Series(cv_preds, name='score')\n",
    "logreg_aq_train = pd.concat([X_train[bias_groups], y_train, logreg_preds_df], axis=1)\n",
    "logreg_aq_train.rename(columns={'fraud_bool': 'label_value'}, inplace=True)\n",
    "logreg_aq_train"
   ]
  },
  {
   "cell_type": "code",
   "execution_count": null,
   "metadata": {},
   "outputs": [],
   "source": [
    "logreg_aq_train, _ = preprocess_input_df(logreg_aq_train)"
   ]
  },
  {
   "cell_type": "code",
   "execution_count": null,
   "metadata": {},
   "outputs": [],
   "source": [
    "logreg_aq_train"
   ]
  },
  {
   "cell_type": "code",
   "execution_count": null,
   "metadata": {},
   "outputs": [],
   "source": [
    "g = Group()\n",
    "logreg_xtab, _ = g.get_crosstabs(logreg_aq_train)"
   ]
  },
  {
   "cell_type": "code",
   "execution_count": null,
   "metadata": {},
   "outputs": [],
   "source": [
    "aqp = Plot()\n",
    "fpr = aqp.plot_group_metric(logreg_xtab, 'fpr', ax_lim=0.4)"
   ]
  },
  {
   "cell_type": "code",
   "execution_count": null,
   "metadata": {},
   "outputs": [],
   "source": [
    "def fprplot(df):\n",
    "    g = Group()\n",
    "    xtab, _ = g.get_crosstabs(df)\n",
    "    \n",
    "    aqp = Plot()\n",
    "    fpr = aqp.plot_group_metric(xtab, 'fpr')"
   ]
  },
  {
   "cell_type": "code",
   "execution_count": null,
   "metadata": {},
   "outputs": [],
   "source": []
  },
  {
   "cell_type": "markdown",
   "metadata": {},
   "source": [
    "## Conclusion"
   ]
  },
  {
   "cell_type": "code",
   "execution_count": null,
   "metadata": {},
   "outputs": [],
   "source": []
  }
 ],
 "metadata": {
  "kernelspec": {
   "display_name": "Python (learn-env)",
   "language": "python",
   "name": "learn-env"
  },
  "language_info": {
   "codemirror_mode": {
    "name": "ipython",
    "version": 3
   },
   "file_extension": ".py",
   "mimetype": "text/x-python",
   "name": "python",
   "nbconvert_exporter": "python",
   "pygments_lexer": "ipython3",
   "version": "3.8.5"
  }
 },
 "nbformat": 4,
 "nbformat_minor": 4
}
